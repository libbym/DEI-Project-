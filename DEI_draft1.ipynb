{
 "cells": [
  {
   "cell_type": "markdown",
   "metadata": {},
   "source": [
    "# University of Michigan DEI Information Analysis for 2017 \n",
    "## Data Manipulation and Preliminary Analyses"
   ]
  },
  {
   "cell_type": "markdown",
   "metadata": {},
   "source": [
    "### Problem/Opportunity Statement:\n",
    "Examine 5 academic years from NCAA data page and DEI 2017 conference excel sheet. Determine any trends and other relevant analysis that’s informative of the trends. \n"
   ]
  },
  {
   "cell_type": "markdown",
   "metadata": {},
   "source": [
    "### Project Deliverables: \n",
    "* Create a centralized DataFrame of  DEI excel\n",
    "* Create a few  DataFrames from NCAA data page to compare with DEI 2017 conference excel sheet\n",
    "     * http://web1.ncaa.org/rgdSearch/exec/saSearch\n",
    "* Create visualizations to display relevant trends showing racial disparities between conferences and academic years \n",
    "    * possible additonal tools: https://us-east-1.online.tableau.com/#/site/visualizationpracticetest01/workbooks\n",
    "\n"
   ]
  },
  {
   "cell_type": "markdown",
   "metadata": {},
   "source": [
    "Assumptions \n",
    "* Race and ethnicity categorizes minority as nonwhite\n",
    "* Diversity measured by the proportion of minority students to the whole population.  \n",
    "* All conferences includes: Michigan, Big 10, ACC, SEC, PAC, Big 12\n"
   ]
  },
  {
   "cell_type": "markdown",
   "metadata": {},
   "source": [
    "# Import Libraries "
   ]
  },
  {
   "cell_type": "code",
   "execution_count": 9,
   "metadata": {},
   "outputs": [],
   "source": [
    "import pandas as pd\n",
    "\n",
    "import seaborn as sns\n",
    "import numpy as np\n",
    "import matplotlib.pyplot as plte\n",
    "\n",
    "import plotly.plotly as py\n",
    "import plotly.graph_objs as go\n"
   ]
  },
  {
   "cell_type": "markdown",
   "metadata": {},
   "source": [
    "## Michigan Student Athlete survey Data"
   ]
  },
  {
   "cell_type": "markdown",
   "metadata": {},
   "source": [
    "Load & Read File "
   ]
  },
  {
   "cell_type": "code",
   "execution_count": 10,
   "metadata": {},
   "outputs": [],
   "source": [
    "filename= \"2017_DEI_Student Athlete Conference Breakdown.xlsx\""
   ]
  },
  {
   "cell_type": "code",
   "execution_count": 11,
   "metadata": {},
   "outputs": [],
   "source": [
    "df4=pd.read_excel(filename,sheet_name=2)"
   ]
  },
  {
   "cell_type": "markdown",
   "metadata": {},
   "source": [
    "# Clean Data \n",
    "* Rename columns \n",
    "* drop rows and columns "
   ]
  },
  {
   "cell_type": "code",
   "execution_count": 12,
   "metadata": {},
   "outputs": [],
   "source": [
    "michigan=(df4.iloc[:30]).copy()\n",
    "\n",
    "michigan= michigan.rename(index=str, columns={\"2016-2017 Michigan Athletics Academic Year (Figures)\": \"Sport\",\"Unnamed: 1\": \"White\", \"Unnamed: 2\": \"Black\",\n",
    "                                          \"Unnamed: 3\": \"American Indian/Alaskan Native\", \"Unnamed: 4\": \"Asian\",\n",
    "                                         \"Unnamed: 5\": \"Hispanic/Latino\", \"Unnamed: 6\": \"Native Hawaiian/Pacific Islander\",\n",
    "                                         \"Unnamed: 7\": \"Two or More Races\", \"Unnamed: 8\": \"Nonresident Alien\",\n",
    "                                         \"Unnamed: 9\": \"Other\", \"Unnamed: 10\": \"Total\"})\n",
    "# michigan.head()\n",
    "michigan= michigan.set_index(\"Sport\")"
   ]
  },
  {
   "cell_type": "code",
   "execution_count": 13,
   "metadata": {},
   "outputs": [
    {
     "data": {
      "text/html": [
       "<div>\n",
       "<style scoped>\n",
       "    .dataframe tbody tr th:only-of-type {\n",
       "        vertical-align: middle;\n",
       "    }\n",
       "\n",
       "    .dataframe tbody tr th {\n",
       "        vertical-align: top;\n",
       "    }\n",
       "\n",
       "    .dataframe thead th {\n",
       "        text-align: right;\n",
       "    }\n",
       "</style>\n",
       "<table border=\"1\" class=\"dataframe\">\n",
       "  <thead>\n",
       "    <tr style=\"text-align: right;\">\n",
       "      <th></th>\n",
       "      <th>White</th>\n",
       "      <th>Black</th>\n",
       "      <th>American Indian/Alaskan Native</th>\n",
       "      <th>Asian</th>\n",
       "      <th>Hispanic/Latino</th>\n",
       "      <th>Native Hawaiian/Pacific Islander</th>\n",
       "      <th>Two or More Races</th>\n",
       "      <th>Nonresident Alien</th>\n",
       "      <th>Other</th>\n",
       "    </tr>\n",
       "    <tr>\n",
       "      <th>Sport</th>\n",
       "      <th></th>\n",
       "      <th></th>\n",
       "      <th></th>\n",
       "      <th></th>\n",
       "      <th></th>\n",
       "      <th></th>\n",
       "      <th></th>\n",
       "      <th></th>\n",
       "      <th></th>\n",
       "    </tr>\n",
       "  </thead>\n",
       "  <tbody>\n",
       "    <tr>\n",
       "      <th>Baseball</th>\n",
       "      <td>29</td>\n",
       "      <td>4</td>\n",
       "      <td>0</td>\n",
       "      <td>0</td>\n",
       "      <td>1</td>\n",
       "      <td>0</td>\n",
       "      <td>0</td>\n",
       "      <td>0</td>\n",
       "      <td>2</td>\n",
       "    </tr>\n",
       "    <tr>\n",
       "      <th>Men's Basketball</th>\n",
       "      <td>8</td>\n",
       "      <td>6</td>\n",
       "      <td>0</td>\n",
       "      <td>0</td>\n",
       "      <td>0</td>\n",
       "      <td>0</td>\n",
       "      <td>2</td>\n",
       "      <td>1</td>\n",
       "      <td>0</td>\n",
       "    </tr>\n",
       "    <tr>\n",
       "      <th>Women's Basketball</th>\n",
       "      <td>4</td>\n",
       "      <td>5</td>\n",
       "      <td>0</td>\n",
       "      <td>0</td>\n",
       "      <td>1</td>\n",
       "      <td>0</td>\n",
       "      <td>4</td>\n",
       "      <td>0</td>\n",
       "      <td>1</td>\n",
       "    </tr>\n",
       "    <tr>\n",
       "      <th>Men's Cross Country</th>\n",
       "      <td>24</td>\n",
       "      <td>0</td>\n",
       "      <td>0</td>\n",
       "      <td>0</td>\n",
       "      <td>0</td>\n",
       "      <td>0</td>\n",
       "      <td>0</td>\n",
       "      <td>2</td>\n",
       "      <td>1</td>\n",
       "    </tr>\n",
       "    <tr>\n",
       "      <th>Women's Cross Country</th>\n",
       "      <td>39</td>\n",
       "      <td>0</td>\n",
       "      <td>0</td>\n",
       "      <td>0</td>\n",
       "      <td>0</td>\n",
       "      <td>0</td>\n",
       "      <td>0</td>\n",
       "      <td>1</td>\n",
       "      <td>0</td>\n",
       "    </tr>\n",
       "  </tbody>\n",
       "</table>\n",
       "</div>"
      ],
      "text/plain": [
       "                      White Black American Indian/Alaskan Native Asian  \\\n",
       "Sport                                                                    \n",
       "Baseball                 29     4                              0     0   \n",
       "Men's Basketball          8     6                              0     0   \n",
       "Women's Basketball        4     5                              0     0   \n",
       "Men's Cross Country      24     0                              0     0   \n",
       "Women's Cross Country    39     0                              0     0   \n",
       "\n",
       "                      Hispanic/Latino Native Hawaiian/Pacific Islander  \\\n",
       "Sport                                                                    \n",
       "Baseball                            1                                0   \n",
       "Men's Basketball                    0                                0   \n",
       "Women's Basketball                  1                                0   \n",
       "Men's Cross Country                 0                                0   \n",
       "Women's Cross Country               0                                0   \n",
       "\n",
       "                      Two or More Races Nonresident Alien Other  \n",
       "Sport                                                            \n",
       "Baseball                              0                 0     2  \n",
       "Men's Basketball                      2                 1     0  \n",
       "Women's Basketball                    4                 0     1  \n",
       "Men's Cross Country                   0                 2     1  \n",
       "Women's Cross Country                 0                 1     0  "
      ]
     },
     "execution_count": 13,
     "metadata": {},
     "output_type": "execute_result"
    }
   ],
   "source": [
    "michigan= michigan.drop(\"Sport\",0)\n",
    "michigan= michigan.drop(\"Total\",1)\n",
    "michigan.head()"
   ]
  },
  {
   "cell_type": "code",
   "execution_count": 14,
   "metadata": {},
   "outputs": [
    {
     "data": {
      "text/plain": [
       "White                               object\n",
       "Black                               object\n",
       "American Indian/Alaskan Native      object\n",
       "Asian                               object\n",
       "Hispanic/Latino                     object\n",
       "Native Hawaiian/Pacific Islander    object\n",
       "Two or More Races                   object\n",
       "Nonresident Alien                   object\n",
       "Other                               object\n",
       "dtype: object"
      ]
     },
     "execution_count": 14,
     "metadata": {},
     "output_type": "execute_result"
    }
   ],
   "source": [
    "# Change values from objects to float \n",
    "michigan.dtypes"
   ]
  },
  {
   "cell_type": "code",
   "execution_count": 15,
   "metadata": {},
   "outputs": [
    {
     "data": {
      "text/plain": [
       "White                               float64\n",
       "Black                               float64\n",
       "American Indian/Alaskan Native      float64\n",
       "Asian                               float64\n",
       "Hispanic/Latino                     float64\n",
       "Native Hawaiian/Pacific Islander    float64\n",
       "Two or More Races                   float64\n",
       "Nonresident Alien                   float64\n",
       "Other                               float64\n",
       "dtype: object"
      ]
     },
     "execution_count": 15,
     "metadata": {},
     "output_type": "execute_result"
    }
   ],
   "source": [
    "michigan=michigan.astype('float64')\n",
    "michigan.dtypes"
   ]
  },
  {
   "cell_type": "markdown",
   "metadata": {},
   "source": [
    "## Describe & Summerize Michigan data"
   ]
  },
  {
   "cell_type": "code",
   "execution_count": 16,
   "metadata": {},
   "outputs": [
    {
     "name": "stdout",
     "output_type": "stream",
     "text": [
      "rows & columns: (29, 9)\n",
      "           White      Black  American Indian/Alaskan Native      Asian  \\\n",
      "count  29.000000  29.000000                            29.0  29.000000   \n",
      "mean   26.586207   4.103448                             0.0   0.793103   \n",
      "std    19.256756   8.295200                             0.0   1.264327   \n",
      "min     4.000000   0.000000                             0.0   0.000000   \n",
      "25%    13.000000   0.000000                             0.0   0.000000   \n",
      "50%    24.000000   1.000000                             0.0   0.000000   \n",
      "75%    35.000000   4.000000                             0.0   1.000000   \n",
      "max    82.000000  44.000000                             0.0   5.000000   \n",
      "\n",
      "       Hispanic/Latino  Native Hawaiian/Pacific Islander  Two or More Races  \\\n",
      "count        29.000000                         29.000000          29.000000   \n",
      "mean          1.172414                          0.103448           1.482759   \n",
      "std           1.255530                          0.557086           2.680894   \n",
      "min           0.000000                          0.000000           0.000000   \n",
      "25%           0.000000                          0.000000           0.000000   \n",
      "50%           1.000000                          0.000000           0.000000   \n",
      "75%           2.000000                          0.000000           2.000000   \n",
      "max           5.000000                          3.000000          13.000000   \n",
      "\n",
      "       Nonresident Alien      Other  \n",
      "count          29.000000  29.000000  \n",
      "mean            1.689655   1.827586  \n",
      "std             1.537703   2.346258  \n",
      "min             0.000000   0.000000  \n",
      "25%             0.000000   0.000000  \n",
      "50%             1.000000   1.000000  \n",
      "75%             3.000000   4.000000  \n",
      "max             5.000000  10.000000  \n"
     ]
    }
   ],
   "source": [
    "numeric_summary = michigan.describe()\n",
    "size =michigan.shape\n",
    "\n",
    "print (\"rows & columns:\",size)\n",
    "print (numeric_summary)"
   ]
  },
  {
   "cell_type": "markdown",
   "metadata": {},
   "source": [
    "There are on average 26 white players per team and 4 or less minorities on average per team, with Native Indian, Asain and Pacific Islander accounting for less that 1 or 0. "
   ]
  },
  {
   "cell_type": "markdown",
   "metadata": {},
   "source": [
    "## Analyzing Minority data: what percent of Michigan athetes are minority? "
   ]
  },
  {
   "cell_type": "code",
   "execution_count": 17,
   "metadata": {},
   "outputs": [
    {
     "name": "stdout",
     "output_type": "stream",
     "text": [
      "total minority:\n",
      "324.0\n",
      "total student athletes:\n",
      "1095.0\n"
     ]
    }
   ],
   "source": [
    "minority_df=michigan[['Black','American Indian/Alaskan Native','Asian','Hispanic/Latino','Native Hawaiian/Pacific Islander','Two or More Races','Nonresident Alien','Other']]\n",
    "\n",
    "sorted_sum= ((minority_df.sum()).sort_values(ascending =False))\n",
    "um_total_minority= sorted_sum.sum()\n",
    "\n",
    "# sorted_sum\n",
    "print('total minority:')\n",
    "print (um_total_minority)\n",
    "um_total_students= michigan.sum().sum()\n",
    "print('total student athletes:')\n",
    "print (um_total_students)"
   ]
  },
  {
   "cell_type": "code",
   "execution_count": 18,
   "metadata": {},
   "outputs": [
    {
     "data": {
      "text/html": [
       "<div>\n",
       "<style scoped>\n",
       "    .dataframe tbody tr th:only-of-type {\n",
       "        vertical-align: middle;\n",
       "    }\n",
       "\n",
       "    .dataframe tbody tr th {\n",
       "        vertical-align: top;\n",
       "    }\n",
       "\n",
       "    .dataframe thead th {\n",
       "        text-align: right;\n",
       "    }\n",
       "</style>\n",
       "<table border=\"1\" class=\"dataframe\">\n",
       "  <thead>\n",
       "    <tr style=\"text-align: right;\">\n",
       "      <th></th>\n",
       "      <th>Black</th>\n",
       "      <th>American Indian/Alaskan Native</th>\n",
       "      <th>Asian</th>\n",
       "      <th>Hispanic/Latino</th>\n",
       "      <th>Native Hawaiian/Pacific Islander</th>\n",
       "      <th>Two or More Races</th>\n",
       "      <th>Nonresident Alien</th>\n",
       "      <th>Other</th>\n",
       "    </tr>\n",
       "    <tr>\n",
       "      <th>Sport</th>\n",
       "      <th></th>\n",
       "      <th></th>\n",
       "      <th></th>\n",
       "      <th></th>\n",
       "      <th></th>\n",
       "      <th></th>\n",
       "      <th></th>\n",
       "      <th></th>\n",
       "    </tr>\n",
       "  </thead>\n",
       "  <tbody>\n",
       "    <tr>\n",
       "      <th>Baseball</th>\n",
       "      <td>4.0</td>\n",
       "      <td>0.0</td>\n",
       "      <td>0.0</td>\n",
       "      <td>1.0</td>\n",
       "      <td>0.0</td>\n",
       "      <td>0.0</td>\n",
       "      <td>0.0</td>\n",
       "      <td>2.0</td>\n",
       "    </tr>\n",
       "    <tr>\n",
       "      <th>Men's Basketball</th>\n",
       "      <td>6.0</td>\n",
       "      <td>0.0</td>\n",
       "      <td>0.0</td>\n",
       "      <td>0.0</td>\n",
       "      <td>0.0</td>\n",
       "      <td>2.0</td>\n",
       "      <td>1.0</td>\n",
       "      <td>0.0</td>\n",
       "    </tr>\n",
       "    <tr>\n",
       "      <th>Women's Basketball</th>\n",
       "      <td>5.0</td>\n",
       "      <td>0.0</td>\n",
       "      <td>0.0</td>\n",
       "      <td>1.0</td>\n",
       "      <td>0.0</td>\n",
       "      <td>4.0</td>\n",
       "      <td>0.0</td>\n",
       "      <td>1.0</td>\n",
       "    </tr>\n",
       "    <tr>\n",
       "      <th>Men's Cross Country</th>\n",
       "      <td>0.0</td>\n",
       "      <td>0.0</td>\n",
       "      <td>0.0</td>\n",
       "      <td>0.0</td>\n",
       "      <td>0.0</td>\n",
       "      <td>0.0</td>\n",
       "      <td>2.0</td>\n",
       "      <td>1.0</td>\n",
       "    </tr>\n",
       "    <tr>\n",
       "      <th>Women's Cross Country</th>\n",
       "      <td>0.0</td>\n",
       "      <td>0.0</td>\n",
       "      <td>0.0</td>\n",
       "      <td>0.0</td>\n",
       "      <td>0.0</td>\n",
       "      <td>0.0</td>\n",
       "      <td>1.0</td>\n",
       "      <td>0.0</td>\n",
       "    </tr>\n",
       "  </tbody>\n",
       "</table>\n",
       "</div>"
      ],
      "text/plain": [
       "                       Black  American Indian/Alaskan Native  Asian  \\\n",
       "Sport                                                                 \n",
       "Baseball                 4.0                             0.0    0.0   \n",
       "Men's Basketball         6.0                             0.0    0.0   \n",
       "Women's Basketball       5.0                             0.0    0.0   \n",
       "Men's Cross Country      0.0                             0.0    0.0   \n",
       "Women's Cross Country    0.0                             0.0    0.0   \n",
       "\n",
       "                       Hispanic/Latino  Native Hawaiian/Pacific Islander  \\\n",
       "Sport                                                                      \n",
       "Baseball                           1.0                               0.0   \n",
       "Men's Basketball                   0.0                               0.0   \n",
       "Women's Basketball                 1.0                               0.0   \n",
       "Men's Cross Country                0.0                               0.0   \n",
       "Women's Cross Country              0.0                               0.0   \n",
       "\n",
       "                       Two or More Races  Nonresident Alien  Other  \n",
       "Sport                                                               \n",
       "Baseball                             0.0                0.0    2.0  \n",
       "Men's Basketball                     2.0                1.0    0.0  \n",
       "Women's Basketball                   4.0                0.0    1.0  \n",
       "Men's Cross Country                  0.0                2.0    1.0  \n",
       "Women's Cross Country                0.0                1.0    0.0  "
      ]
     },
     "execution_count": 18,
     "metadata": {},
     "output_type": "execute_result"
    }
   ],
   "source": [
    "minority_df.head()"
   ]
  },
  {
   "cell_type": "code",
   "execution_count": 19,
   "metadata": {},
   "outputs": [
    {
     "name": "stdout",
     "output_type": "stream",
     "text": [
      "This is the percent of the minority population for Michigan Athletics: \n",
      "0.2958904109589041\n",
      "This is the percent of the majority population for Michigan Athletics: \n",
      "0.7041095890410959\n"
     ]
    }
   ],
   "source": [
    "minority_value= (um_total_minority/um_total_students)\n",
    "majority_value = 1- (minority_value)\n",
    "\n",
    "print ('This is the percent of the minority population for Michigan Athletics: ')\n",
    "print(minority_value)\n",
    "print ('This is the percent of the majority population for Michigan Athletics: ')\n",
    "print(majority_value)"
   ]
  },
  {
   "cell_type": "markdown",
   "metadata": {},
   "source": [
    "29.6% of michigan athletes are minority "
   ]
  },
  {
   "cell_type": "markdown",
   "metadata": {},
   "source": [
    "## All Conferences: Big-12, SEC, ACC, PAC-12, Big Ten \n",
    "* load,clean, and summerize  data from http://web1.ncaa.org/rgdSearch/exec/saSearch"
   ]
  },
  {
   "cell_type": "markdown",
   "metadata": {},
   "source": [
    "Load & Read excel File"
   ]
  },
  {
   "cell_type": "code",
   "execution_count": 20,
   "metadata": {},
   "outputs": [],
   "source": [
    "df=pd.read_excel(filename,sheet_name=0)"
   ]
  },
  {
   "cell_type": "code",
   "execution_count": 21,
   "metadata": {},
   "outputs": [],
   "source": [
    "#rename columns \n",
    "df2= df.rename(index=str, columns={\"2016-2017 Big Ten Academic Year (Figures)\": \"Sport\",\"Unnamed: 1\": \"White\", \"Unnamed: 2\": \"Black\",\n",
    "                                          \"Unnamed: 3\": \"American Indian/Alaskan Native\", \"Unnamed: 4\": \"Asian\",\n",
    "                                         \"Unnamed: 5\": \"Hispanic/Latino\", \"Unnamed: 6\": \"Native Hawaiian/Pacific Islander\",\n",
    "                                         \"Unnamed: 7\": \"Two or More Races\", \"Unnamed: 8\": \"Nonresident Alien\",\n",
    "                                         \"Unnamed: 9\": \"Other\", \"Unnamed: 10\": \"Total\",\n",
    "                                         \"Unnamed: 13\": \"White %\", \"Unnamed: 14\": \"Black %\",\n",
    "                                         \"Unnamed: 15\": \"American Indian/Alaskan Native %\", \"Unnamed: 16\": \"Asian %\",\n",
    "                                         \"Unnamed: 17\": \"Hispanic/Latino %\", \"Unnamed: 18\": \"Native Hawaiian/Pacific Islander %\",\n",
    "                                         \"Unnamed: 19\": \"Two or More Races %\", \"Unnamed: 20\": \"Nonresident Alien %\",\n",
    "                                         \"Unnamed: 21\": \"Other %\", \"Unnamed: 22\": \"Total %\"})"
   ]
  },
  {
   "cell_type": "code",
   "execution_count": 22,
   "metadata": {},
   "outputs": [],
   "source": [
    "# add column for conference \n",
    "\n",
    "df2['conferences']=df2.shape[0]*['Big Ten']\n",
    "\n",
    "# change conference column values for each conference \n",
    "\n",
    "df2.loc[33:63, 'conferences']= 'Pac12_AcdemYr'\n",
    "df2.loc[67:97, 'conferences']= 'SEC_AcdemYr'\n",
    "df2.loc[100:130, 'conferences']= 'ACC_AcdemYr'\n",
    "df2.loc[133:163, 'conferences']= 'Big12_AcdemYr'\n"
   ]
  },
  {
   "cell_type": "markdown",
   "metadata": {},
   "source": [
    "drop columns & rows "
   ]
  },
  {
   "cell_type": "code",
   "execution_count": 23,
   "metadata": {},
   "outputs": [],
   "source": [
    "df2= df2.set_index(\"Sport\")\n",
    "df2= df2.drop(\"Sport\",0)\n",
    "df2=df2.drop('2016-2017 Big Ten Academic Year (%)',1)\n",
    "df2=df2.drop(\"Unnamed: 11\",1)"
   ]
  },
  {
   "cell_type": "markdown",
   "metadata": {},
   "source": [
    "# Looking at each conference: \n",
    "* cleaning data  by conference   "
   ]
  },
  {
   "cell_type": "code",
   "execution_count": 26,
   "metadata": {},
   "outputs": [],
   "source": [
    "BigTen = (df2.iloc[:29]).copy()\n",
    "# BigTen.head()"
   ]
  },
  {
   "cell_type": "code",
   "execution_count": 27,
   "metadata": {},
   "outputs": [],
   "source": [
    "#drop columns and rows \n",
    "BigTen = BigTen.drop(\"Total\",1)\n",
    "\n",
    "BigTen = BigTen.drop(\"Total %\",1)\n",
    "\n",
    "BigTen = BigTen.drop(\"conferences\",1)"
   ]
  },
  {
   "cell_type": "code",
   "execution_count": 28,
   "metadata": {},
   "outputs": [
    {
     "data": {
      "text/plain": [
       "White                                 float64\n",
       "Black                                 float64\n",
       "American Indian/Alaskan Native        float64\n",
       "Asian                                 float64\n",
       "Hispanic/Latino                       float64\n",
       "Native Hawaiian/Pacific Islander      float64\n",
       "Two or More Races                     float64\n",
       "Nonresident Alien                     float64\n",
       "Other                                 float64\n",
       "White %                               float64\n",
       "Black %                               float64\n",
       "American Indian/Alaskan Native %      float64\n",
       "Asian %                               float64\n",
       "Hispanic/Latino %                     float64\n",
       "Native Hawaiian/Pacific Islander %    float64\n",
       "Two or More Races %                   float64\n",
       "Nonresident Alien %                   float64\n",
       "Other %                               float64\n",
       "dtype: object"
      ]
     },
     "execution_count": 28,
     "metadata": {},
     "output_type": "execute_result"
    }
   ],
   "source": [
    "#change values from object to float \n",
    "BigTen=BigTen.astype('float64')\n",
    "BigTen.dtypes "
   ]
  },
  {
   "cell_type": "code",
   "execution_count": 29,
   "metadata": {},
   "outputs": [],
   "source": [
    "Pac12 =(df2.iloc[33:62]).copy()\n",
    "\n",
    "# Pac12"
   ]
  },
  {
   "cell_type": "code",
   "execution_count": 30,
   "metadata": {},
   "outputs": [],
   "source": [
    "#drop columns and rows\n",
    "Pac12 = Pac12.drop(\"Total\",1)\n",
    "\n",
    "Pac12 = Pac12.drop(\"Total %\",1)\n",
    "\n",
    "Pac12 = Pac12.drop(\"conferences\",1)"
   ]
  },
  {
   "cell_type": "code",
   "execution_count": 31,
   "metadata": {},
   "outputs": [
    {
     "data": {
      "text/plain": [
       "White                                 float64\n",
       "Black                                 float64\n",
       "American Indian/Alaskan Native        float64\n",
       "Asian                                 float64\n",
       "Hispanic/Latino                       float64\n",
       "Native Hawaiian/Pacific Islander      float64\n",
       "Two or More Races                     float64\n",
       "Nonresident Alien                     float64\n",
       "Other                                 float64\n",
       "White %                               float64\n",
       "Black %                               float64\n",
       "American Indian/Alaskan Native %      float64\n",
       "Asian %                               float64\n",
       "Hispanic/Latino %                     float64\n",
       "Native Hawaiian/Pacific Islander %    float64\n",
       "Two or More Races %                   float64\n",
       "Nonresident Alien %                   float64\n",
       "Other %                               float64\n",
       "dtype: object"
      ]
     },
     "execution_count": 31,
     "metadata": {},
     "output_type": "execute_result"
    }
   ],
   "source": [
    "#change values from objects to float \n",
    "Pac12=Pac12.astype('float64')\n",
    "\n",
    "Pac12.dtypes"
   ]
  },
  {
   "cell_type": "code",
   "execution_count": 32,
   "metadata": {},
   "outputs": [],
   "source": [
    "SEC = (df2.iloc[65:94]).copy()\n",
    "# SEC\n"
   ]
  },
  {
   "cell_type": "code",
   "execution_count": 33,
   "metadata": {},
   "outputs": [],
   "source": [
    "#drop columns and rows \n",
    "SEC = SEC.drop(\"Total\",1)\n",
    "\n",
    "SEC = SEC.drop(\"Total %\",1)\n",
    "\n",
    "SEC = SEC.drop(\"conferences\",1)"
   ]
  },
  {
   "cell_type": "code",
   "execution_count": 34,
   "metadata": {},
   "outputs": [
    {
     "data": {
      "text/plain": [
       "White                                 float64\n",
       "Black                                 float64\n",
       "American Indian/Alaskan Native        float64\n",
       "Asian                                 float64\n",
       "Hispanic/Latino                       float64\n",
       "Native Hawaiian/Pacific Islander      float64\n",
       "Two or More Races                     float64\n",
       "Nonresident Alien                     float64\n",
       "Other                                 float64\n",
       "White %                               float64\n",
       "Black %                               float64\n",
       "American Indian/Alaskan Native %      float64\n",
       "Asian %                               float64\n",
       "Hispanic/Latino %                     float64\n",
       "Native Hawaiian/Pacific Islander %    float64\n",
       "Two or More Races %                   float64\n",
       "Nonresident Alien %                   float64\n",
       "Other %                               float64\n",
       "dtype: object"
      ]
     },
     "execution_count": 34,
     "metadata": {},
     "output_type": "execute_result"
    }
   ],
   "source": [
    "#change values from objects to float \n",
    "SEC=SEC.astype('float64')\n",
    "\n",
    "SEC.dtypes"
   ]
  },
  {
   "cell_type": "code",
   "execution_count": 35,
   "metadata": {},
   "outputs": [],
   "source": [
    "ACC = (df2.iloc[97:126]).copy()\n",
    "# ACC"
   ]
  },
  {
   "cell_type": "code",
   "execution_count": 36,
   "metadata": {},
   "outputs": [],
   "source": [
    "#drop columns and rows \n",
    "ACC  = ACC .drop(\"Total\",1)\n",
    "\n",
    "ACC  = ACC .drop(\"Total %\",1)\n",
    "\n",
    "ACC  = ACC .drop(\"conferences\",1)"
   ]
  },
  {
   "cell_type": "code",
   "execution_count": 37,
   "metadata": {},
   "outputs": [
    {
     "data": {
      "text/plain": [
       "White                                 float64\n",
       "Black                                 float64\n",
       "American Indian/Alaskan Native        float64\n",
       "Asian                                 float64\n",
       "Hispanic/Latino                       float64\n",
       "Native Hawaiian/Pacific Islander      float64\n",
       "Two or More Races                     float64\n",
       "Nonresident Alien                     float64\n",
       "Other                                 float64\n",
       "White %                               float64\n",
       "Black %                               float64\n",
       "American Indian/Alaskan Native %      float64\n",
       "Asian %                               float64\n",
       "Hispanic/Latino %                     float64\n",
       "Native Hawaiian/Pacific Islander %    float64\n",
       "Two or More Races %                   float64\n",
       "Nonresident Alien %                   float64\n",
       "Other %                               float64\n",
       "dtype: object"
      ]
     },
     "execution_count": 37,
     "metadata": {},
     "output_type": "execute_result"
    }
   ],
   "source": [
    "#change values from objects to float \n",
    "ACC=ACC.astype('float64')\n",
    "\n",
    "ACC.dtypes\n"
   ]
  },
  {
   "cell_type": "code",
   "execution_count": 38,
   "metadata": {},
   "outputs": [],
   "source": [
    "Big12 = (df2.iloc[129:163]).copy()\n",
    "# Big12"
   ]
  },
  {
   "cell_type": "code",
   "execution_count": 39,
   "metadata": {},
   "outputs": [],
   "source": [
    "#drop columns and rows \n",
    "Big12  = Big12 .drop(\"Total\",1)\n",
    "\n",
    "Big12 = Big12.drop(\"Total %\",1)\n",
    "\n",
    "Big12= Big12.drop(\"conferences\",1)"
   ]
  },
  {
   "cell_type": "code",
   "execution_count": 40,
   "metadata": {},
   "outputs": [
    {
     "data": {
      "text/plain": [
       "White                                 float64\n",
       "Black                                 float64\n",
       "American Indian/Alaskan Native        float64\n",
       "Asian                                 float64\n",
       "Hispanic/Latino                       float64\n",
       "Native Hawaiian/Pacific Islander      float64\n",
       "Two or More Races                     float64\n",
       "Nonresident Alien                     float64\n",
       "Other                                 float64\n",
       "White %                               float64\n",
       "Black %                               float64\n",
       "American Indian/Alaskan Native %      float64\n",
       "Asian %                               float64\n",
       "Hispanic/Latino %                     float64\n",
       "Native Hawaiian/Pacific Islander %    float64\n",
       "Two or More Races %                   float64\n",
       "Nonresident Alien %                   float64\n",
       "Other %                               float64\n",
       "dtype: object"
      ]
     },
     "execution_count": 40,
     "metadata": {},
     "output_type": "execute_result"
    }
   ],
   "source": [
    "#change vlaues from objects to float \n",
    "Big12=Big12.astype('float64')\n",
    "\n",
    "Big12.dtypes"
   ]
  },
  {
   "cell_type": "markdown",
   "metadata": {},
   "source": [
    "## Decribing the data for each conference "
   ]
  },
  {
   "cell_type": "code",
   "execution_count": 42,
   "metadata": {},
   "outputs": [
    {
     "name": "stdout",
     "output_type": "stream",
     "text": [
      "BIGTEN\n",
      "rows & columns: (29, 18)\n",
      "            White       Black  American Indian/Alaskan Native      Asian  \\\n",
      "count   29.000000   29.000000                       29.000000  29.000000   \n",
      "mean   253.344828   58.758621                        0.655172   5.103448   \n",
      "std    181.839269  132.344155                        1.142549   6.410621   \n",
      "min     32.000000    0.000000                        0.000000   0.000000   \n",
      "25%    112.000000    5.000000                        0.000000   2.000000   \n",
      "50%    191.000000   12.000000                        0.000000   3.000000   \n",
      "75%    356.000000   34.000000                        1.000000   6.000000   \n",
      "max    761.000000  696.000000                        4.000000  25.000000   \n",
      "\n",
      "       Hispanic/Latino  Native Hawaiian/Pacific Islander  Two or More Races  \\\n",
      "count        29.000000                         29.000000          29.000000   \n",
      "mean         12.655172                          0.551724          18.896552   \n",
      "std          11.094644                          1.351882          18.714671   \n",
      "min           1.000000                          0.000000           1.000000   \n",
      "25%           3.000000                          0.000000           6.000000   \n",
      "50%           8.000000                          0.000000          15.000000   \n",
      "75%          20.000000                          1.000000          21.000000   \n",
      "max          40.000000                          7.000000          81.000000   \n",
      "\n",
      "       Nonresident Alien      Other    White %    Black %  \\\n",
      "count          29.000000  29.000000  29.000000  29.000000   \n",
      "mean           16.724138   9.793103  70.144828  10.917241   \n",
      "std            12.337216   9.476962  15.098997  14.476386   \n",
      "min             0.000000   1.000000  32.500000   0.000000   \n",
      "25%             7.000000   5.000000  65.700000   2.400000   \n",
      "50%            13.000000   7.000000  74.900000   4.300000   \n",
      "75%            25.000000  12.000000  81.400000  13.200000   \n",
      "max            44.000000  52.000000  88.400000  54.100000   \n",
      "\n",
      "       American Indian/Alaskan Native %    Asian %  Hispanic/Latino %  \\\n",
      "count                         29.000000  29.000000          29.000000   \n",
      "mean                           0.165517   2.375862           3.527586   \n",
      "std                            0.268961   3.509035           2.458934   \n",
      "min                            0.000000   0.000000           0.000000   \n",
      "25%                            0.000000   0.500000           2.100000   \n",
      "50%                            0.000000   0.900000           3.200000   \n",
      "75%                            0.300000   2.800000           4.600000   \n",
      "max                            0.900000  17.000000          11.300000   \n",
      "\n",
      "       Native Hawaiian/Pacific Islander %  Two or More Races %  \\\n",
      "count                           29.000000            29.000000   \n",
      "mean                             0.075862             3.327586   \n",
      "std                              0.199383             2.100152   \n",
      "min                              0.000000             0.000000   \n",
      "25%                              0.000000             2.100000   \n",
      "50%                              0.000000             3.300000   \n",
      "75%                              0.000000             4.300000   \n",
      "max                              0.900000             8.900000   \n",
      "\n",
      "       Nonresident Alien %    Other %  \n",
      "count            29.000000  29.000000  \n",
      "mean              6.265517   3.075862  \n",
      "std               7.322191   4.184466  \n",
      "min               0.000000   0.000000  \n",
      "25%               2.300000   1.200000  \n",
      "50%               3.200000   2.200000  \n",
      "75%               6.400000   2.900000  \n",
      "max              28.500000  23.000000  \n"
     ]
    }
   ],
   "source": [
    "#  BIG TEN \n",
    "\n",
    "\n",
    "numeric_summary = BigTen.describe()\n",
    "size =BigTen.shape\n",
    "print('BIGTEN')\n",
    "print (\"rows & columns:\",size)\n",
    "print (numeric_summary)"
   ]
  },
  {
   "cell_type": "markdown",
   "metadata": {},
   "source": [
    "There is a mean of ~30% minoroity for all sports "
   ]
  },
  {
   "cell_type": "code",
   "execution_count": 43,
   "metadata": {},
   "outputs": [
    {
     "name": "stdout",
     "output_type": "stream",
     "text": [
      "In the BIG TEN there are: \n",
      "total minority student athletes:\n",
      "3571.0\n",
      "total student athletes:\n",
      "10918.0\n"
     ]
    }
   ],
   "source": [
    "###  Big-10  ###\n",
    "\n",
    "BTminority_df=BigTen[['Black','American Indian/Alaskan Native','Asian','Hispanic/Latino','Native Hawaiian/Pacific Islander','Two or More Races','Nonresident Alien','Other']]\n",
    "\n",
    "BTall_students =BigTen[['White', 'Black','American Indian/Alaskan Native','Asian','Hispanic/Latino','Native Hawaiian/Pacific Islander','Two or More Races','Nonresident Alien','Other']]\n",
    "\n",
    "BTsorted_sum= ((BTminority_df.sum()).sort_values(ascending =False))\n",
    "BTtotal_minority= BTsorted_sum.sum()\n",
    "\n",
    "# sorted_sum\n",
    "print('In the BIG TEN there are: ')\n",
    "print('total minority student athletes:')\n",
    "print (BTtotal_minority)\n",
    "BTtotal_students= BTall_students.sum().sum()\n",
    "print('total student athletes:')\n",
    "print (BTtotal_students)\n"
   ]
  },
  {
   "cell_type": "code",
   "execution_count": 44,
   "metadata": {},
   "outputs": [
    {
     "name": "stdout",
     "output_type": "stream",
     "text": [
      "BigTen Athletics minority percentage: \n",
      "0.3270745557794468\n",
      "BigTen Athletics majority population: \n",
      "0.6729254442205532\n"
     ]
    }
   ],
   "source": [
    "# BIG TEN minority \n",
    "\n",
    "BTminority_value= (BTtotal_minority/BTtotal_students)\n",
    "BTmajority_value = 1- (BTminority_value)\n",
    "\n",
    "print ('BigTen Athletics minority percentage: ')\n",
    "print (BTminority_value )\n",
    "print ('BigTen Athletics majority population: ')\n",
    "print (BTmajority_value)"
   ]
  },
  {
   "cell_type": "code",
   "execution_count": 46,
   "metadata": {},
   "outputs": [
    {
     "name": "stdout",
     "output_type": "stream",
     "text": [
      "PAC12\n",
      "rows & columns: (29, 18)\n",
      "            White       Black  American Indian/Alaskan Native      Asian  \\\n",
      "count   29.000000   29.000000                       29.000000  29.000000   \n",
      "mean   129.206897   40.517241                        1.896552  11.896552   \n",
      "std    109.465382   93.823398                        2.023872   8.474098   \n",
      "min      0.000000    0.000000                        0.000000   0.000000   \n",
      "25%     43.000000    2.000000                        0.000000   5.000000   \n",
      "50%     91.000000    8.000000                        2.000000  12.000000   \n",
      "75%    193.000000   23.000000                        3.000000  15.000000   \n",
      "max    464.000000  495.000000                        8.000000  36.000000   \n",
      "\n",
      "       Hispanic/Latino  Native Hawaiian/Pacific Islander  Two or More Races  \\\n",
      "count        29.000000                         29.000000          29.000000   \n",
      "mean         15.620690                          3.965517          14.275862   \n",
      "std          15.010505                         16.010003          19.894178   \n",
      "min           0.000000                          0.000000           0.000000   \n",
      "25%           3.000000                          0.000000           4.000000   \n",
      "50%          11.000000                          1.000000           6.000000   \n",
      "75%          23.000000                          2.000000          18.000000   \n",
      "max          64.000000                         87.000000         103.000000   \n",
      "\n",
      "       Nonresident Alien       Other    White %    Black %  \\\n",
      "count          29.000000   29.000000  29.000000  29.000000   \n",
      "mean           13.241379   26.068966  51.600000   9.300000   \n",
      "std            11.441326   31.966423  19.473792  12.008122   \n",
      "min             0.000000    0.000000   0.000000   0.000000   \n",
      "25%             6.000000    6.000000  46.400000   1.700000   \n",
      "50%            11.000000   18.000000  54.600000   3.800000   \n",
      "75%            20.000000   31.000000  66.200000  10.600000   \n",
      "max            53.000000  160.000000  75.900000  44.000000   \n",
      "\n",
      "       American Indian/Alaskan Native %    Asian %  Hispanic/Latino %  \\\n",
      "count                         29.000000  29.000000          29.000000   \n",
      "mean                           0.855172   6.606897           5.613793   \n",
      "std                            0.867503   7.465728           4.284584   \n",
      "min                            0.000000   0.000000           0.000000   \n",
      "25%                            0.000000   2.400000           3.700000   \n",
      "50%                            0.600000   3.700000           4.500000   \n",
      "75%                            1.300000   9.700000           8.000000   \n",
      "max                            3.100000  28.600000          17.700000   \n",
      "\n",
      "       Native Hawaiian/Pacific Islander %  Two or More Races %  \\\n",
      "count                           29.000000            29.000000   \n",
      "mean                             0.786207             4.289655   \n",
      "std                              1.296899             3.055130   \n",
      "min                              0.000000             0.000000   \n",
      "25%                              0.000000             2.400000   \n",
      "50%                              0.200000             3.400000   \n",
      "75%                              1.000000             6.400000   \n",
      "max                              6.100000            11.100000   \n",
      "\n",
      "       Nonresident Alien %    Other %  \n",
      "count            29.000000  29.000000  \n",
      "mean              6.068966   8.010345  \n",
      "std               6.317668   5.351725  \n",
      "min               0.000000   0.000000  \n",
      "25%               1.000000   4.000000  \n",
      "50%               4.900000  10.300000  \n",
      "75%               7.500000  12.000000  \n",
      "max              25.200000  18.500000  \n"
     ]
    }
   ],
   "source": [
    "# PAC12\n",
    "\n",
    "numeric_summary = Pac12.describe()\n",
    "size =Pac12.shape\n",
    "print('PAC12')\n",
    "print (\"rows & columns:\",size)\n",
    "print (numeric_summary)"
   ]
  },
  {
   "cell_type": "markdown",
   "metadata": {},
   "source": [
    "mean 49% minority "
   ]
  },
  {
   "cell_type": "code",
   "execution_count": 47,
   "metadata": {},
   "outputs": [
    {
     "name": "stdout",
     "output_type": "stream",
     "text": [
      "In the PAC12 there are: \n",
      "total minority student athletes:\n",
      "3697.0\n",
      "total student athletes:\n",
      "7444.0\n"
     ]
    }
   ],
   "source": [
    "###  PAC-12  ###\n",
    "PACminority_df=Pac12[['Black','American Indian/Alaskan Native','Asian','Hispanic/Latino','Native Hawaiian/Pacific Islander','Two or More Races','Nonresident Alien','Other']]\n",
    "\n",
    "PACall_students =Pac12[['White', 'Black','American Indian/Alaskan Native','Asian','Hispanic/Latino','Native Hawaiian/Pacific Islander','Two or More Races','Nonresident Alien','Other']]\n",
    "\n",
    "PACsorted_sum= ((PACminority_df.sum()).sort_values(ascending =False))\n",
    "PACtotal_minority= PACsorted_sum.sum()\n",
    "\n",
    "print('In the PAC12 there are: ')\n",
    "print('total minority student athletes:')\n",
    "print (PACtotal_minority)\n",
    "PACtotal_students= PACall_students.sum().sum()\n",
    "print('total student athletes:')\n",
    "print (PACtotal_students )"
   ]
  },
  {
   "cell_type": "code",
   "execution_count": 49,
   "metadata": {},
   "outputs": [
    {
     "name": "stdout",
     "output_type": "stream",
     "text": [
      "PAC12 Athletics minority population: \n",
      "0.49664159054271895\n",
      "PAC12 Athletics majority population: \n",
      "0.503358409457281\n"
     ]
    }
   ],
   "source": [
    "# minority \n",
    "\n",
    "PACminority_value= (PACtotal_minority/PACtotal_students)\n",
    "PACmajority_value = 1- (PACminority_value)\n",
    "\n",
    "print ('PAC12 Athletics minority population: ')\n",
    "print(PACminority_value )\n",
    "\n",
    "print ('PAC12 Athletics majority population: ')\n",
    "print(PACmajority_value)"
   ]
  },
  {
   "cell_type": "code",
   "execution_count": 50,
   "metadata": {},
   "outputs": [
    {
     "name": "stdout",
     "output_type": "stream",
     "text": [
      "SEC\n",
      "rows & columns: (29, 18)\n",
      "            White       Black  American Indian/Alaskan Native      Asian  \\\n",
      "count   29.000000   29.000000                       29.000000  29.000000   \n",
      "mean   157.137931   76.827586                        1.137931   2.068966   \n",
      "std    159.166069  188.148131                        1.328913   2.865198   \n",
      "min      0.000000    0.000000                        0.000000   0.000000   \n",
      "25%     39.000000    1.000000                        0.000000   0.000000   \n",
      "50%     87.000000    6.000000                        1.000000   1.000000   \n",
      "75%    274.000000   39.000000                        2.000000   3.000000   \n",
      "max    619.000000  984.000000                        5.000000  12.000000   \n",
      "\n",
      "       Hispanic/Latino  Native Hawaiian/Pacific Islander  Two or More Races  \\\n",
      "count        29.000000                         29.000000          29.000000   \n",
      "mean          9.344828                          0.931034           8.689655   \n",
      "std           9.099748                          1.279817          11.656094   \n",
      "min           0.000000                          0.000000           0.000000   \n",
      "25%           1.000000                          0.000000           0.000000   \n",
      "50%           7.000000                          0.000000           5.000000   \n",
      "75%          15.000000                          2.000000          12.000000   \n",
      "max          28.000000                          5.000000          56.000000   \n",
      "\n",
      "       Nonresident Alien      Other    White %    Black %  \\\n",
      "count          29.000000  29.000000  29.000000  29.000000   \n",
      "mean           19.965517   3.413793  50.975862  14.137931   \n",
      "std            21.541460   3.659794  29.137416  19.800116   \n",
      "min             0.000000   0.000000   0.000000   0.000000   \n",
      "25%             0.000000   0.000000  36.300000   1.000000   \n",
      "50%            12.000000   2.000000  53.400000   4.900000   \n",
      "75%            38.000000   6.000000  74.500000  17.300000   \n",
      "max            62.000000  15.000000  87.100000  65.800000   \n",
      "\n",
      "       American Indian/Alaskan Native %    Asian %  Hispanic/Latino %  \\\n",
      "count                         29.000000  29.000000          29.000000   \n",
      "mean                           0.396552   1.000000           3.206897   \n",
      "std                            0.515809   1.494514           2.529812   \n",
      "min                            0.000000   0.000000           0.000000   \n",
      "25%                            0.000000   0.000000           1.400000   \n",
      "50%                            0.200000   0.300000           3.200000   \n",
      "75%                            0.500000   1.400000           4.100000   \n",
      "max                            2.000000   6.300000           8.700000   \n",
      "\n",
      "       Native Hawaiian/Pacific Islander %  Two or More Races %  \\\n",
      "count                           29.000000            29.000000   \n",
      "mean                             0.341379             2.651724   \n",
      "std                              0.469435             2.258732   \n",
      "min                              0.000000             0.000000   \n",
      "25%                              0.000000             0.700000   \n",
      "50%                              0.100000             2.400000   \n",
      "75%                              0.500000             4.100000   \n",
      "max                              1.600000             7.400000   \n",
      "\n",
      "       Nonresident Alien %    Other %  \n",
      "count            29.000000  29.000000  \n",
      "mean              8.486207   1.558621  \n",
      "std              10.530626   2.250161  \n",
      "min               0.000000   0.000000  \n",
      "25%               0.000000   0.000000  \n",
      "50%               5.600000   1.100000  \n",
      "75%              10.900000   1.900000  \n",
      "max              38.800000  11.600000  \n"
     ]
    }
   ],
   "source": [
    "# SEC \n",
    "\n",
    "\n",
    "numeric_summary = SEC.describe()\n",
    "size =SEC.shape\n",
    "print('SEC')\n",
    "print (\"rows & columns:\",size)\n",
    "print (numeric_summary)"
   ]
  },
  {
   "cell_type": "code",
   "execution_count": 51,
   "metadata": {},
   "outputs": [
    {
     "name": "stdout",
     "output_type": "stream",
     "text": [
      "In the SEC there are: \n",
      "total minority student athletes:\n",
      "3549.0\n",
      "total student athletes:\n",
      "8106.0\n"
     ]
    }
   ],
   "source": [
    "###  SEC  ###\n",
    "\n",
    "SECminority_df=SEC[['Black','American Indian/Alaskan Native','Asian','Hispanic/Latino','Native Hawaiian/Pacific Islander','Two or More Races','Nonresident Alien','Other']]\n",
    "\n",
    "SECall_students =SEC[['White', 'Black','American Indian/Alaskan Native','Asian','Hispanic/Latino','Native Hawaiian/Pacific Islander','Two or More Races','Nonresident Alien','Other']]\n",
    "\n",
    "SECsorted_sum= ((SECminority_df.sum()).sort_values(ascending =False))\n",
    "SECtotal_minority= SECsorted_sum.sum()\n",
    "\n",
    "# sorted_sum\n",
    "# total_minority\n",
    "SECtotal_students= SECall_students.sum().sum()\n",
    "SECtotal_students \n",
    "\n",
    "print('In the SEC there are: ')\n",
    "print('total minority student athletes:')\n",
    "print (SECtotal_minority)\n",
    "SECtotal_students= SECall_students.sum().sum()\n",
    "print('total student athletes:')\n",
    "print (SECtotal_students )"
   ]
  },
  {
   "cell_type": "code",
   "execution_count": 52,
   "metadata": {},
   "outputs": [
    {
     "name": "stdout",
     "output_type": "stream",
     "text": [
      "SEC Athletics minority population: \n",
      "0.4378238341968912\n",
      "SEC Athletics majority population: \n",
      "0.5621761658031088\n"
     ]
    }
   ],
   "source": [
    "# minority \n",
    "\n",
    "SECminority_value= (SECtotal_minority/SECtotal_students)\n",
    "SECmajority_value = 1- (SECminority_value)\n",
    "\n",
    "print ('SEC Athletics minority population: ')\n",
    "print(SECminority_value )\n",
    "\n",
    "print ('SEC Athletics majority population: ')\n",
    "print(SECmajority_value)"
   ]
  },
  {
   "cell_type": "code",
   "execution_count": 54,
   "metadata": {},
   "outputs": [
    {
     "name": "stdout",
     "output_type": "stream",
     "text": [
      "ACC\n",
      "rows & columns: (29, 18)\n",
      "            White       Black  American Indian/Alaskan Native      Asian  \\\n",
      "count   29.000000   29.000000                       29.000000  29.000000   \n",
      "mean   204.620690   71.241379                        0.758621   3.517241   \n",
      "std    156.496101  168.493250                        1.430663   3.785505   \n",
      "min      0.000000    0.000000                        0.000000   0.000000   \n",
      "25%     66.000000    6.000000                        0.000000   0.000000   \n",
      "50%    182.000000   11.000000                        0.000000   3.000000   \n",
      "75%    326.000000   53.000000                        1.000000   6.000000   \n",
      "max    653.000000  896.000000                        5.000000  14.000000   \n",
      "\n",
      "       Hispanic/Latino  Native Hawaiian/Pacific Islander  Two or More Races  \\\n",
      "count        29.000000                         29.000000          29.000000   \n",
      "mean         13.068966                          0.689655          15.344828   \n",
      "std          11.844019                          1.365479          17.421817   \n",
      "min           0.000000                          0.000000           0.000000   \n",
      "25%           4.000000                          0.000000           6.000000   \n",
      "50%           9.000000                          0.000000           9.000000   \n",
      "75%          20.000000                          1.000000          20.000000   \n",
      "max          41.000000                          6.000000          88.000000   \n",
      "\n",
      "       Nonresident Alien      Other    White %    Black %  \\\n",
      "count          29.000000  29.000000  29.000000  29.000000   \n",
      "mean           22.275862  13.379310  59.882759  12.327586   \n",
      "std            17.671399  15.012884  23.953691  16.500864   \n",
      "min             0.000000   0.000000   0.000000   0.000000   \n",
      "25%             5.000000   3.000000  48.500000   1.700000   \n",
      "50%            24.000000   9.000000  69.100000   4.300000   \n",
      "75%            33.000000  21.000000  78.300000  14.100000   \n",
      "max            60.000000  67.000000  91.200000  55.900000   \n",
      "\n",
      "       American Indian/Alaskan Native %    Asian %  Hispanic/Latino %  \\\n",
      "count                         29.000000  29.000000          29.000000   \n",
      "mean                           0.227586   1.672414           3.331034   \n",
      "std                            0.467437   2.894193           2.145444   \n",
      "min                            0.000000   0.000000           0.000000   \n",
      "25%                            0.000000   0.000000           1.800000   \n",
      "50%                            0.000000   0.400000           3.200000   \n",
      "75%                            0.100000   1.900000           4.600000   \n",
      "max                            1.600000  13.200000           9.100000   \n",
      "\n",
      "       Native Hawaiian/Pacific Islander %  Two or More Races %  \\\n",
      "count                           29.000000            29.000000   \n",
      "mean                             0.148276             4.134483   \n",
      "std                              0.251596             2.417093   \n",
      "min                              0.000000             0.000000   \n",
      "25%                              0.000000             2.700000   \n",
      "50%                              0.000000             4.000000   \n",
      "75%                              0.300000             5.300000   \n",
      "max                              0.800000            10.200000   \n",
      "\n",
      "       Nonresident Alien %    Other %  \n",
      "count            29.000000  29.000000  \n",
      "mean              8.031034   3.362069  \n",
      "std               7.436402   2.189001  \n",
      "min               0.000000   0.000000  \n",
      "25%               1.700000   1.900000  \n",
      "50%               5.900000   3.300000  \n",
      "75%              11.400000   4.100000  \n",
      "max              26.400000   8.700000  \n"
     ]
    }
   ],
   "source": [
    "# ACC \n",
    "\n",
    "\n",
    "numeric_summary = ACC.describe()\n",
    "size =ACC.shape\n",
    "print('ACC')\n",
    "print (\"rows & columns:\",size)\n",
    "print (numeric_summary)"
   ]
  },
  {
   "cell_type": "code",
   "execution_count": 55,
   "metadata": {},
   "outputs": [
    {
     "name": "stdout",
     "output_type": "stream",
     "text": [
      "total minority student athletes:\n",
      "4068.0\n",
      "total student athletes:\n",
      "10002.0\n"
     ]
    }
   ],
   "source": [
    "###  ACC   ###\n",
    "\n",
    "ACCminority_df=ACC[['Black','American Indian/Alaskan Native','Asian','Hispanic/Latino','Native Hawaiian/Pacific Islander','Two or More Races','Nonresident Alien','Other']]\n",
    "\n",
    "ACCall_students =ACC[['White', 'Black','American Indian/Alaskan Native','Asian','Hispanic/Latino','Native Hawaiian/Pacific Islander','Two or More Races','Nonresident Alien','Other']]\n",
    "\n",
    "ACCsorted_sum= ((ACCminority_df.sum()).sort_values(ascending =False))\n",
    "ACCtotal_minority= ACCsorted_sum.sum()\n",
    "\n",
    "\n",
    "\n",
    "print('total minority student athletes:')\n",
    "print (ACCtotal_minority)\n",
    "ACCtotal_students= ACCall_students.sum().sum()\n",
    "print('total student athletes:')\n",
    "print (ACCtotal_students )"
   ]
  },
  {
   "cell_type": "code",
   "execution_count": 56,
   "metadata": {},
   "outputs": [
    {
     "name": "stdout",
     "output_type": "stream",
     "text": [
      "ACC Athletics minority population: \n",
      "0.40671865626874626\n",
      "ACC Athletics majority population: \n",
      "0.5932813437312537\n"
     ]
    }
   ],
   "source": [
    "#minority \n",
    "\n",
    "ACCminority_value= (ACCtotal_minority/ACCtotal_students)\n",
    "ACCmajority_value = 1- (ACCminority_value)\n",
    "\n",
    "print ('ACC Athletics minority population: ')\n",
    "print(ACCminority_value )\n",
    "\n",
    "print ('ACC Athletics majority population: ')\n",
    "print(ACCmajority_value)"
   ]
  },
  {
   "cell_type": "code",
   "execution_count": 58,
   "metadata": {},
   "outputs": [
    {
     "name": "stdout",
     "output_type": "stream",
     "text": [
      "BIG12\n",
      "rows & columns: (29, 18)\n",
      "            White       Black  American Indian/Alaskan Native      Asian  \\\n",
      "count   29.000000   29.000000                       29.000000  29.000000   \n",
      "mean   114.517241   47.482759                        1.931034   2.103448   \n",
      "std    121.514438  117.826331                        2.852706   2.769023   \n",
      "min      0.000000    0.000000                        0.000000   0.000000   \n",
      "25%     24.000000    0.000000                        0.000000   0.000000   \n",
      "50%     84.000000    8.000000                        1.000000   1.000000   \n",
      "75%    194.000000   24.000000                        2.000000   3.000000   \n",
      "max    488.000000  621.000000                       11.000000  14.000000   \n",
      "\n",
      "       Hispanic/Latino  Native Hawaiian/Pacific Islander  Two or More Races  \\\n",
      "count        29.000000                         29.000000          29.000000   \n",
      "mean          8.689655                          0.620690          10.931034   \n",
      "std           8.984524                          1.399331          13.514360   \n",
      "min           0.000000                          0.000000           0.000000   \n",
      "25%           2.000000                          0.000000           2.000000   \n",
      "50%           5.000000                          0.000000           6.000000   \n",
      "75%          14.000000                          1.000000          14.000000   \n",
      "max          35.000000                          7.000000          60.000000   \n",
      "\n",
      "       Nonresident Alien      Other    White %    Black %  \\\n",
      "count          29.000000  29.000000  29.000000  29.000000   \n",
      "mean           12.517241   3.724138  49.237931  12.168966   \n",
      "std            14.219254   5.476551  27.927296  17.358059   \n",
      "min             0.000000   0.000000   0.000000   0.000000   \n",
      "25%             0.000000   0.000000  32.000000   0.000000   \n",
      "50%             8.000000   2.000000  54.500000   5.200000   \n",
      "75%            23.000000   6.000000  70.600000  14.600000   \n",
      "max            46.000000  25.000000  81.500000  61.200000   \n",
      "\n",
      "       American Indian/Alaskan Native %    Asian %  Hispanic/Latino %  \\\n",
      "count                         29.000000  29.000000          29.000000   \n",
      "mean                           0.786207   2.393103           4.100000   \n",
      "std                            1.289719   5.208093           3.263762   \n",
      "min                            0.000000   0.000000           0.000000   \n",
      "25%                            0.000000   0.000000           1.200000   \n",
      "50%                            0.500000   0.600000           3.900000   \n",
      "75%                            0.900000   1.300000           6.500000   \n",
      "max                            6.000000  22.200000           9.400000   \n",
      "\n",
      "       Native Hawaiian/Pacific Islander %  Two or More Races %  \\\n",
      "count                           29.000000            29.000000   \n",
      "mean                             0.175862             4.593103   \n",
      "std                              0.293568             3.494274   \n",
      "min                              0.000000             0.000000   \n",
      "25%                              0.000000             2.100000   \n",
      "50%                              0.000000             4.800000   \n",
      "75%                              0.400000             6.500000   \n",
      "max                              1.000000            13.500000   \n",
      "\n",
      "       Nonresident Alien %    Other %  \n",
      "count            29.000000  29.000000  \n",
      "mean              7.951724   1.362069  \n",
      "std              11.710820   1.265028  \n",
      "min               0.000000   0.000000  \n",
      "25%               0.000000   0.000000  \n",
      "50%               4.800000   1.400000  \n",
      "75%               8.000000   2.000000  \n",
      "max              47.400000   4.000000  \n"
     ]
    }
   ],
   "source": [
    "# BIG12\n",
    "\n",
    "numeric_summary = Big12.describe()\n",
    "size =Big12.shape\n",
    "print('BIG12')\n",
    "print (\"rows & columns:\",size)\n",
    "print (numeric_summary)"
   ]
  },
  {
   "cell_type": "code",
   "execution_count": 59,
   "metadata": {},
   "outputs": [
    {
     "name": "stdout",
     "output_type": "stream",
     "text": [
      "total minority student athletes:\n",
      "2552.0\n",
      "total student athletes:\n",
      "5873.0\n"
     ]
    }
   ],
   "source": [
    "###  Big-12  ###\n",
    "\n",
    "\n",
    "B12minority_df=Big12[['Black','American Indian/Alaskan Native','Asian','Hispanic/Latino','Native Hawaiian/Pacific Islander','Two or More Races','Nonresident Alien','Other']]\n",
    "\n",
    "B12all_students =Big12[['White', 'Black','American Indian/Alaskan Native','Asian','Hispanic/Latino','Native Hawaiian/Pacific Islander','Two or More Races','Nonresident Alien','Other']]\n",
    "\n",
    "B12sorted_sum= ((B12minority_df.sum()).sort_values(ascending =False))\n",
    "B12total_minority= B12sorted_sum.sum()\n",
    "\n",
    "\n",
    "print('total minority student athletes:')\n",
    "print (B12total_minority)\n",
    "B12total_students= B12all_students.sum().sum()\n",
    "print('total student athletes:')\n",
    "print (B12total_students )\n"
   ]
  },
  {
   "cell_type": "code",
   "execution_count": 60,
   "metadata": {},
   "outputs": [
    {
     "name": "stdout",
     "output_type": "stream",
     "text": [
      "Big12 Athletics minority population: \n",
      "0.4345309041375788\n",
      "Big12 Athletics majority population: \n",
      "0.5654690958624212\n"
     ]
    }
   ],
   "source": [
    "# minority \n",
    "\n",
    "B12minority_value= (B12total_minority/B12total_students)\n",
    "B12majority_value = 1- (B12minority_value)\n",
    "\n",
    "print ('Big12 Athletics minority population: ')\n",
    "print(B12minority_value )\n",
    "\n",
    "print ('Big12 Athletics majority population: ')\n",
    "print(B12majority_value)"
   ]
  },
  {
   "cell_type": "markdown",
   "metadata": {},
   "source": [
    "## Nationally "
   ]
  },
  {
   "cell_type": "code",
   "execution_count": 69,
   "metadata": {},
   "outputs": [
    {
     "name": "stdout",
     "output_type": "stream",
     "text": [
      "Nationally, the minority population percentage is:\n",
      "0.4118036039014713\n"
     ]
    }
   ],
   "source": [
    "#total minority percentage \n",
    "#total athletes \n",
    "\n",
    "total_allstudents= (B12total_students + ACCtotal_students+ SECtotal_students+ PACtotal_students+ BTtotal_students)\n",
    "total_allminority= (B12total_minority + ACCtotal_minority + SECtotal_minority +PACtotal_minority + BTtotal_minority)\n",
    "\n",
    "percent_minority= total_allminority /total_allstudents\n",
    "total_majority= 1 - percent_minority\n",
    "\n",
    "print ('Nationally, the minority population percentage is:') \n",
    "print(percent_minority)\n"
   ]
  },
  {
   "cell_type": "code",
   "execution_count": 75,
   "metadata": {},
   "outputs": [
    {
     "name": "stdout",
     "output_type": "stream",
     "text": [
      "Out of 17437 Student Athletes playing D1 sports in America, there are 42343 minority Student Athletes\n"
     ]
    }
   ],
   "source": [
    "print('Out of %d Student Athletes playing D1 sports in America, there are %d minority Student Athletes' % (total_allminority, total_allstudents))"
   ]
  },
  {
   "cell_type": "markdown",
   "metadata": {},
   "source": [
    "### what are the sports have the highest diversity and the lowest diverstiy "
   ]
  },
  {
   "cell_type": "code",
   "execution_count": 76,
   "metadata": {},
   "outputs": [
    {
     "name": "stdout",
     "output_type": "stream",
     "text": [
      "Michigan teams with the lowest diversity: \n",
      "3       Men's Cross Country\n",
      "16           Women's Soccer\n",
      "4     Women's Cross Country\n",
      "Name: Sport, dtype: object\n",
      "Michigan teams with the highest diversity: \n",
      "2    Women's Basketball\n",
      "1      Men's Basketball\n",
      "6              Football\n",
      "Name: Sport, dtype: object\n"
     ]
    }
   ],
   "source": [
    "umich= michigan.reset_index()\n",
    "umich['total']= umich.sum(axis=1)\n",
    "umich['majority_value']=umich['White']/umich['total']\n",
    "umich['minority_value'] = 1 - umich['majority_value'] \n",
    "\n",
    "umich=umich.sort_values(by=['minority_value'],ascending= False)\n",
    "umich.set_index('Sport')\n",
    "\n",
    "\n",
    "UMlowdiversity=umich.tail(3)['Sport']\n",
    "UMmostdiversity=umich.head(3)['Sport']\n",
    "print('Michigan teams with the lowest diversity: ')\n",
    "print (UMlowdiversity)\n",
    "print('Michigan teams with the highest diversity: ')\n",
    "print(UMmostdiversity)"
   ]
  },
  {
   "cell_type": "code",
   "execution_count": 89,
   "metadata": {},
   "outputs": [
    {
     "name": "stdout",
     "output_type": "stream",
     "text": [
      "Big Ten teams with the lowest diversity: \n",
      "[\"Women's Lacrosse\", \"Women's Cross Country\", 'Baseball']\n",
      "Big Ten teams with the highest diversity: \n",
      "1      Men's Basketball\n",
      "2    Women's Basketball\n",
      "6              Football\n",
      "Name: Sport, dtype: object\n"
     ]
    }
   ],
   "source": [
    "BTdf= BTall_students.reset_index()\n",
    "BTdf['total']= BTdf.sum(axis=1)\n",
    "\n",
    "BTdf['majority_value']=BTdf['White']/BTdf['total']\n",
    "BTdf['minority_value'] = 1 - BTdf['majority_value'] \n",
    "\n",
    "BTdf=BTdf.sort_values(by=['minority_value'],ascending= False)\n",
    "BTdf.set_index('Sport')\n",
    "\n",
    "\n",
    "BTlowdiversity=list(BTdf.tail(3)['Sport'])\n",
    "BTmostdiversity=BTdf.head(3)['Sport']\n",
    "print('Big Ten teams with the lowest diversity: ')\n",
    "print ( BTlowdiversity)\n",
    "print('Big Ten teams with the highest diversity: ')\n",
    "print(BTmostdiversity)"
   ]
  },
  {
   "cell_type": "code",
   "execution_count": 78,
   "metadata": {},
   "outputs": [],
   "source": [
    "# d1df= total_allstudents.reset_index()\n",
    "# d1df['total']= d1df.sum(axis=1)\n",
    "\n",
    "# d1df['majority_value']=d1df['White']/d1df['total']\n",
    "# d1df['minority_value'] = 1 - d1df['majority_value'] \n",
    "\n",
    "# D1df=D1df.sort_values(by=['minority_value'],ascending= False)\n",
    "# D1df.set_index('Sport')\n",
    "\n",
    "# d1lowdiversity=D1df.tail(3)['Sport']\n",
    "# d1mostdiversity=D1df.head(3)['Sport']\n",
    "# print('For US D1 sports, the sports with the lowest diversity: ')\n",
    "# print (d1lowdiversity)\n",
    "# print('For US D1 sports, the sports with the highest diversity: ')\n",
    "# print(d1mostdiversity)"
   ]
  },
  {
   "cell_type": "code",
   "execution_count": 79,
   "metadata": {},
   "outputs": [
    {
     "name": "stdout",
     "output_type": "stream",
     "text": [
      "PAC teams with the lowest diversity: \n",
      "5                  Field Hockey\n",
      "19    Women's Swimming & Diving\n",
      "11                   Ice Hockey\n",
      "Name: Sport, dtype: object\n",
      "PAC teams with the highest diversity: \n",
      "2    Women's Basketball\n",
      "8          Women's Golf\n",
      "1      Men's Basketball\n",
      "Name: Sport, dtype: object\n"
     ]
    }
   ],
   "source": [
    "PACdf= PACall_students.reset_index()\n",
    "PACdf['total']= PACdf.sum(axis=1)\n",
    "\n",
    "PACdf['majority_value']=PACdf['White']/PACdf['total']\n",
    "PACdf['minority_value'] = 1 - PACdf['majority_value'] \n",
    "\n",
    "PACdf=PACdf.sort_values(by=['minority_value'],ascending= False)\n",
    "PACdf = PACdf.drop([12], axis=0)\n",
    "\n",
    "PACdf.set_index('Sport')\n",
    "\n",
    "PAClowdiversity=PACdf.tail(3)['Sport']\n",
    "PACmostdiversity=PACdf.head(3)['Sport']\n",
    "print('PAC teams with the lowest diversity: ')\n",
    "print ( PAClowdiversity)\n",
    "print('PAC teams with the highest diversity: ')\n",
    "print(PACmostdiversity)"
   ]
  },
  {
   "cell_type": "code",
   "execution_count": 80,
   "metadata": {},
   "outputs": [],
   "source": [
    "# PACdf"
   ]
  },
  {
   "cell_type": "code",
   "execution_count": 81,
   "metadata": {},
   "outputs": [
    {
     "name": "stdout",
     "output_type": "stream",
     "text": [
      "SEC teams with the lowest diversity: \n",
      "4     Women's Cross Country\n",
      "0                 Basebeall\n",
      "13         Women's Lacrosse\n",
      "Name: Sport, dtype: object\n",
      "SEC teams with the highest diversity: \n",
      "2    Women's Basketball\n",
      "1      Men's Basketball\n",
      "6              Football\n",
      "Name: Sport, dtype: object\n"
     ]
    }
   ],
   "source": [
    "SECdf= SECall_students.reset_index()\n",
    "SECdf['total']= SECdf.sum(axis=1)\n",
    "\n",
    "SECdf['majority_value']=SECdf['White']/SECdf['total']\n",
    "SECdf['minority_value'] = 1 - SECdf['majority_value'] \n",
    "\n",
    "SECdf=SECdf.sort_values(by=['minority_value'],ascending= False)\n",
    "SECdf = SECdf.drop([5,9,11,12,14,27], axis=0)\n",
    "SECdf.set_index('Sport')\n",
    "\n",
    "SEClowdiversity=SECdf.tail(3)['Sport']\n",
    "SECmostdiversity=SECdf.head(3)['Sport']\n",
    "print('SEC teams with the lowest diversity: ')\n",
    "print ( SEClowdiversity)\n",
    "print('SEC teams with the highest diversity: ')\n",
    "print(SECmostdiversity)"
   ]
  },
  {
   "cell_type": "code",
   "execution_count": 82,
   "metadata": {},
   "outputs": [],
   "source": [
    "# SECdf"
   ]
  },
  {
   "cell_type": "code",
   "execution_count": 83,
   "metadata": {},
   "outputs": [
    {
     "name": "stdout",
     "output_type": "stream",
     "text": [
      "ACC teams with the lowest diversity: \n",
      "0            Basebeall\n",
      "12      Men's Lacrosse\n",
      "13    Women's Lacrosse\n",
      "Name: Sport, dtype: object\n",
      "ACC teams with the highest diversity: \n",
      "2    Women's Basketball\n",
      "1      Men's Basketball\n",
      "6              Football\n",
      "Name: Sport, dtype: object\n"
     ]
    }
   ],
   "source": [
    "ACCdf= ACCall_students.reset_index()\n",
    "ACCdf['total']= ACCdf.sum(axis=1)\n",
    "\n",
    "ACCdf['majority_value']=ACCdf['White']/ACCdf['total']\n",
    "ACCdf['minority_value'] = 1 - ACCdf['majority_value'] \n",
    "\n",
    "ACCdf=ACCdf.sort_values(by=['minority_value'],ascending= False)\n",
    "ACCdf = ACCdf.drop([9,11,27], axis=0)\n",
    "\n",
    "ACCdf.set_index('Sport')\n",
    "\n",
    "ACClowdiversity=ACCdf.tail(3)['Sport']\n",
    "ACCmostdiversity=ACCdf.head(3)['Sport']\n",
    "print('ACC teams with the lowest diversity: ')\n",
    "print ( ACClowdiversity)\n",
    "print('ACC teams with the highest diversity: ')\n",
    "print(ACCmostdiversity)"
   ]
  },
  {
   "cell_type": "code",
   "execution_count": 84,
   "metadata": {},
   "outputs": [],
   "source": [
    "# ACCdf\n",
    "# ACCall_students"
   ]
  },
  {
   "cell_type": "code",
   "execution_count": 85,
   "metadata": {},
   "outputs": [
    {
     "name": "stdout",
     "output_type": "stream",
     "text": [
      "Big 12 teams with the lowest diversity: \n",
      "14                       Rowing\n",
      "0                     Basebeall\n",
      "19    Women's Swimming & Diving\n",
      "Name: Sport, dtype: object\n",
      "Big 12 teams with the highest diversity: \n",
      "1       Men's Basketball\n",
      "2     Women's Basketball\n",
      "21        Women's Tennis\n",
      "Name: Sport, dtype: object\n"
     ]
    }
   ],
   "source": [
    "b12df=B12all_students.reset_index()\n",
    "b12df['total']= b12df.sum(axis=1)\n",
    "\n",
    "b12df['majority_value']=b12df['White']/b12df['total']\n",
    "b12df['minority_value'] = 1 - b12df['majority_value'] \n",
    "\n",
    "b12df=b12df.sort_values(by=['minority_value'],ascending= False)\n",
    "b12df = b12df.drop([5,11,12,13,27], axis=0)\n",
    "b12df.set_index('Sport')\n",
    "\n",
    "b12lowdiversity=b12df.tail(3)['Sport']\n",
    "b12mostdiversity=b12df.head(3)['Sport']\n",
    "print('Big 12 teams with the lowest diversity: ')\n",
    "print (b12lowdiversity)\n",
    "print('Big 12 teams with the highest diversity: ')\n",
    "print(b12mostdiversity)"
   ]
  },
  {
   "cell_type": "code",
   "execution_count": 103,
   "metadata": {},
   "outputs": [
    {
     "name": "stdout",
     "output_type": "stream",
     "text": [
      "Big Ten teams with the lowest diversity: Women's Lacrosse, Women's Cross Country, Baseball\n",
      "                           \n",
      "Big Ten teams with the highest diversity: Men's Basketball, Women's Basketball, Football\n",
      "-----------------------\n",
      "                           \n",
      "PAC teams with the lowest diversity: Field Hockey, Women's Swimming & Diving, Ice Hockey \n",
      "                           \n",
      "PAC teams with the highest diversity: Women's Basketball, Women's Golf, Men's Basketball\n",
      "-----------------------\n",
      "                           \n",
      "SEC teams with the lowest diversity: Women's Cross Country, Basebeall, Women's Lacrosse \n",
      "                           \n",
      "SEC teams with the highest diversity: Women's Basketball, Men's Basketball, Football \n",
      "-----------------------\n",
      "                           \n",
      "ACC teams with the lowest diversity: Basebeall, Men's Lacrosse, Women's Lacrosse \n",
      "                           \n",
      "ACC teams with the highest diversity: Women's Basketball, Men's Basketball, Football \n",
      "-----------------------\n",
      "                           \n",
      "Big 12 teams with the lowest diversity: Rowing, Basebeall, Women's Swimming & Diving \n",
      "                           \n",
      "Big 12 teams with the highest diversity:Men's Basketball, Women's Basketball, Women's Tennis \n",
      "                           \n",
      "                           \n"
     ]
    }
   ],
   "source": [
    "#BIG10 \n",
    "\n",
    "\n",
    "BTlowdiversity=', '.join(list(BTdf.tail(3)['Sport']))\n",
    "BTmostdiversity=', '.join(list(BTdf.head(3)['Sport']))\n",
    "print('Big Ten teams with the lowest diversity: %s'%(BTlowdiversity))\n",
    "print ('                           ')\n",
    "print('Big Ten teams with the highest diversity: %s' %(BTmostdiversity))\n",
    "print ('-----------------------')\n",
    "print ('                           ')\n",
    "\n",
    "#PAC12 \n",
    "\n",
    "\n",
    "PAClowdiversity= ', '.join(PACdf.tail(3)['Sport'])\n",
    "PACmostdiversity=', '.join(PACdf.head(3)['Sport'])\n",
    "print('PAC teams with the lowest diversity: %s '%( PAClowdiversity) )\n",
    "print ('                           ')\n",
    "print('PAC teams with the highest diversity: %s' % (PACmostdiversity))\n",
    "print ('-----------------------')\n",
    "print ('                           ')\n",
    "\n",
    "\n",
    "# SEC\n",
    "\n",
    "\n",
    "SEClowdiversity=', '.join(SECdf.tail(3)['Sport'])\n",
    "SECmostdiversity=', '.join(SECdf.head(3)['Sport'])\n",
    "print('SEC teams with the lowest diversity: %s '%( SEClowdiversity) )\n",
    "print ('                           ')\n",
    "print('SEC teams with the highest diversity: %s '% (SECmostdiversity))\n",
    "print ('-----------------------')\n",
    "print ('                           ')\n",
    "\n",
    "# ACC\n",
    "\n",
    "ACClowdiversity=', '.join(ACCdf.tail(3)['Sport'])\n",
    "ACCmostdiversity=', '.join(ACCdf.head(3)['Sport'])\n",
    "print('ACC teams with the lowest diversity: %s '% ( ACClowdiversity))\n",
    "print ('                           ')\n",
    "print('ACC teams with the highest diversity: %s '% (ACCmostdiversity))\n",
    "print ('-----------------------')\n",
    "print ('                           ')\n",
    "\n",
    "\n",
    "# BIG12\n",
    "\n",
    "b12lowdiversity=', '.join(b12df.tail(3)['Sport'])\n",
    "b12mostdiversity=', '.join(b12df.head(3)['Sport'])\n",
    "print('Big 12 teams with the lowest diversity: %s '% (b12lowdiversity))\n",
    "print ('                           ')\n",
    "print('Big 12 teams with the highest diversity:%s '% (b12mostdiversity))\n",
    "print ('                           ')\n",
    "print ('                           ')"
   ]
  },
  {
   "cell_type": "markdown",
   "metadata": {},
   "source": [
    "The sports with the lowest diversity were different for each conference, however Men's Basketbal and Women's Basketball were among the top 3 sports with the most diversity for every conferences; all except 2 conferences had Football and Men's and  Women's Basketbal for top 3 most diverse. "
   ]
  },
  {
   "cell_type": "markdown",
   "metadata": {},
   "source": [
    "# Analyze Data & Interpret Results \n",
    "* using plotly package  \n",
    "\n",
    "## Michign - Minority proportons by Sport "
   ]
  },
  {
   "cell_type": "code",
   "execution_count": 104,
   "metadata": {},
   "outputs": [
    {
     "name": "stdout",
     "output_type": "stream",
     "text": [
      "                    Sport  minority_value  majority_value\n",
      "3     Men's Cross Country        0.111111        0.888889\n",
      "16         Women's Soccer        0.096774        0.903226\n",
      "4   Women's Cross Country        0.025000        0.975000\n",
      "           Sport  minority_value  majority_value\n",
      "5   Field Hockey        0.304348        0.695652\n",
      "17      Softball        0.281250        0.718750\n",
      "28     Wrestling        0.281250        0.718750\n"
     ]
    },
    {
     "name": "stderr",
     "output_type": "stream",
     "text": [
      "/Applications/anaconda3/lib/python3.6/site-packages/IPython/core/display.py:689: UserWarning:\n",
      "\n",
      "Consider using IPython.display.IFrame instead\n",
      "\n"
     ]
    },
    {
     "data": {
      "text/html": [
       "<iframe id=\"igraph\" scrolling=\"no\" style=\"border:none;\" seamless=\"seamless\" src=\"https://plot.ly/~libbymur/145.embed\" height=\"525px\" width=\"100%\"></iframe>"
      ],
      "text/plain": [
       "<chart_studio.tools.PlotlyDisplay object>"
      ]
     },
     "execution_count": 104,
     "metadata": {},
     "output_type": "execute_result"
    }
   ],
   "source": [
    "UMlowdiversity\n",
    "\n",
    "# host_city=host_city[['Country','Year']]\n",
    "\n",
    "um_by_sport=umich[['Sport','minority_value','majority_value']]\n",
    "\n",
    "top_diversity= um_by_sport.iloc[:3]\n",
    "middle_diversity=um_by_sport.iloc[13:16]\n",
    "low_diversity=um_by_sport.iloc[26:29]\n",
    "\n",
    "labels = ['Minority','White']\n",
    "# values = [minority_value,majority_value\n",
    "\n",
    "wbball_values=[(top_diversity['minority_value'].iloc[0]),(top_diversity['majority_value'].iloc[0])]\n",
    "mbball__values=[(top_diversity['minority_value'].iloc[1]),(top_diversity['majority_value'].iloc[1])]\n",
    "Fball__values= [(top_diversity['minority_value'].iloc[2]),(top_diversity['majority_value'].iloc[2])]\n",
    "\n",
    "MCC_values=[(low_diversity['minority_value'].iloc[0]),(low_diversity['majority_value'].iloc[0])]\n",
    "soccer__values=[(low_diversity['minority_value'].iloc[1]),(low_diversity['majority_value'].iloc[1])]\n",
    "WCC__values= [(low_diversity['minority_value'].iloc[2]),(low_diversity['majority_value'].iloc[2])]\n",
    "\n",
    "feildhoc_values=[(middle_diversity['minority_value'].iloc[0]),(middle_diversity['majority_value'].iloc[0])]\n",
    "softball__values=[(middle_diversity['minority_value'].iloc[1]),(middle_diversity['majority_value'].iloc[1])]\n",
    "wrestle__values= [(middle_diversity['minority_value'].iloc[2]),(middle_diversity['majority_value'].iloc[2])]\n",
    "print(low_diversity)\n",
    "print(middle_diversity)\n",
    "\n",
    "\n",
    "fig = {\n",
    "    'data': [\n",
    "        {\n",
    "            'labels': ['Minority','White'],\n",
    "            'values': wbball_values,\n",
    "            'type': 'pie',\n",
    "            'name': 'Womens Basketball',\n",
    "            'marker': {'colors': ['rgb(251, 214, 82)',\n",
    "                                  'rgb(81, 118, 251)']},\n",
    "            'domain': {'x': [0, 0.25],\n",
    "                       'y': [0, 0.25]},\n",
    "            'hoverinfo':'label+percent+name',\n",
    "            'text': ['Womens Bball'], \n",
    "             'textinfo':'text+percent'\n",
    "        },\n",
    "        {\n",
    "            'labels': ['Minority','White'],\n",
    "            'values': mbball__values,\n",
    "            'marker': {'colors': ['rgb(251, 214, 82)',\n",
    "                                  'rgb(81, 118, 251)']},\n",
    "            'type': 'pie',\n",
    "            'name': 'Mens Basketball',\n",
    "            'domain': {'x': [0.38, 0.63],\n",
    "                       'y': [0, 0.25]},\n",
    "            'hoverinfo':'label+percent+name',\n",
    "            'text': ['Mens Bball'], \n",
    "             'textinfo':'text+percent'\n",
    "\n",
    "        },\n",
    "        {\n",
    "            'labels': ['Minority','White'],\n",
    "            'values': Fball__values,\n",
    "            'marker': {'colors': ['rgb(251, 214, 82)',\n",
    "                                  'rgb(81, 118, 251)']},\n",
    "            'type': 'pie',\n",
    "            'name': 'Football',\n",
    "            'domain': {'x': [0.75, 1],\n",
    "                       'y': [0, 0.25]},\n",
    "            'hoverinfo':'label+percent+name',\n",
    "            'text': ['Football'], \n",
    "             'textinfo':'text+percent'\n",
    "        },\n",
    "        {\n",
    "            'labels': ['Minority','White'],\n",
    "            'values': feildhoc_values,\n",
    "            'marker': {'colors': ['rgb(251, 214, 82)',\n",
    "                                  'rgb(81, 118, 251)']},\n",
    "            'type': 'pie',\n",
    "            'name': 'Feild Hockey',\n",
    "            'domain': {'x': [0, 0.25],\n",
    "                       'y': [0.38, 0.63]},\n",
    "            'hoverinfo':'label+percent+name',\n",
    "            'text': ['Feild Hockey'], \n",
    "             'textinfo':'text+percent'\n",
    "        },\n",
    "         {\n",
    "            'labels': ['Minority','White'],\n",
    "            'values': softball__values,\n",
    "            'marker': {'colors': ['rgb(251, 214, 82)',\n",
    "                                  'rgb(81, 118, 251)']},\n",
    "            'type': 'pie',\n",
    "            'name': 'Softball',\n",
    "            'domain': {'x': [0.38, 0.63],\n",
    "                       'y': [0.38, 0.63]},\n",
    "            'hoverinfo':'label+percent+name',\n",
    "             'text': ['Softball'], \n",
    "             'textinfo':'text+percent'\n",
    "\n",
    "        },\n",
    "         {\n",
    "            'labels': ['Minority','White'],\n",
    "            'values': wrestle__values,\n",
    "            'marker': {'colors': ['rgb(251, 214, 82)',\n",
    "                                  'rgb(81, 118, 251)']},\n",
    "            'type': 'pie',\n",
    "            'name': 'Wrestling',\n",
    "            'domain': {'x': [0.75, 1],\n",
    "                       'y': [0.38, 0.63]},\n",
    "            'hoverinfo':'label+percent+name',\n",
    "             'text': ['Wrestling'], \n",
    "             'textinfo':'text+percent'\n",
    "\n",
    "        },\n",
    "        {\n",
    "            'labels': ['Minority','White'],\n",
    "            'values': MCC_values,\n",
    "            'marker': {'colors': ['rgb(251, 214, 82)',\n",
    "                                  'rgb(81, 118, 251)']},\n",
    "            'type': 'pie',\n",
    "            'name': 'Mens Cross Country',\n",
    "            'domain': {'x': [0, 0.25],\n",
    "                       'y': [0.70,0.95]},\n",
    "            'hoverinfo':'label+percent+name',\n",
    "            'text': ['Mens CrossCountry'],\n",
    "            'textinfo':'text+percent'\n",
    "\n",
    "        },\n",
    "        {\n",
    "            'labels': ['Minority','White'],\n",
    "            'values': soccer__values,\n",
    "            'marker': {'colors': ['rgb(251, 214, 82)',\n",
    "                                  'rgb(81, 118, 251)']},\n",
    "            'type': 'pie',\n",
    "            'name': 'Womens Soccer',\n",
    "            'domain': {'x': [0.38, 0.63],\n",
    "                       'y': [0.70, 0.95]},\n",
    "            'hoverinfo':'label+percent+name',\n",
    "            'text': ['Womens Soccer'],\n",
    "            'textinfo':'text+percent'\n",
    "\n",
    "        },\n",
    "        {\n",
    "            'labels': ['Minority','White'],\n",
    "            'values': WCC__values,\n",
    "            'marker': {'colors': ['rgb(251, 214, 82)',\n",
    "                                  'rgb(81, 118, 251)']},\n",
    "            'type': 'pie',\n",
    "            'name': 'Womens Cross Country',\n",
    "            'domain': {'x': [0.75, 1],\n",
    "                       'y': [0.70, 0.95]},\n",
    "            'hoverinfo':'label+percent+name',\n",
    "            'text': ['Womens CrossCountry'],\n",
    "            'textinfo':'text+percent'\n",
    "\n",
    "        },\n",
    "\n",
    "    ],\n",
    "    'layout': {'title': 'Michigan Minority Proportions By Sport, 2017',\n",
    "               'showlegend': True,}\n",
    "    \n",
    "}\n",
    "\n",
    "py.iplot(fig, filename='bysport_pie_chart')\n",
    "# # py.iplot([trace], filename='bysport_pie_chart')\n",
    "# trace = go.Pie(labels=labels, values=wbball_values)"
   ]
  },
  {
   "cell_type": "markdown",
   "metadata": {},
   "source": [
    "# Big10- Minority proportons by Sport "
   ]
  },
  {
   "cell_type": "code",
   "execution_count": 105,
   "metadata": {},
   "outputs": [
    {
     "data": {
      "text/plain": [
       "(0.7333333333333334, 0.26666666666666666)"
      ]
     },
     "execution_count": 105,
     "metadata": {},
     "output_type": "execute_result"
    }
   ],
   "source": [
    "(top_diversity['minority_value'].iloc[0]),(top_diversity['majority_value'].iloc[0])"
   ]
  },
  {
   "cell_type": "code",
   "execution_count": 106,
   "metadata": {},
   "outputs": [
    {
     "name": "stdout",
     "output_type": "stream",
     "text": [
      "                Sport  minority_value  majority_value\n",
      "1    Men's Basketball        0.668203        0.331797\n",
      "2  Women's Basketball        0.627451        0.372549\n",
      "6            Football        0.539625        0.460375\n",
      "                    Sport  minority_value  majority_value\n",
      "13       Women's Lacrosse        0.142202        0.857798\n",
      "4   Women's Cross Country        0.140110        0.859890\n",
      "0                Baseball        0.132196        0.867804\n",
      "         Sport  minority_value  majority_value\n",
      "27  Water Polo        0.255814        0.744186\n",
      "28   Wrestling        0.253669        0.746331\n",
      "26  Volleyball        0.253112        0.746888\n"
     ]
    },
    {
     "name": "stderr",
     "output_type": "stream",
     "text": [
      "/Applications/anaconda3/lib/python3.6/site-packages/IPython/core/display.py:689: UserWarning:\n",
      "\n",
      "Consider using IPython.display.IFrame instead\n",
      "\n"
     ]
    },
    {
     "data": {
      "text/html": [
       "<iframe id=\"igraph\" scrolling=\"no\" style=\"border:none;\" seamless=\"seamless\" src=\"https://plot.ly/~libbymur/147.embed\" height=\"525px\" width=\"100%\"></iframe>"
      ],
      "text/plain": [
       "<chart_studio.tools.PlotlyDisplay object>"
      ]
     },
     "execution_count": 106,
     "metadata": {},
     "output_type": "execute_result"
    }
   ],
   "source": [
    "UMlowdiversity,UMmostdiversity,BTlowdiversity,BTmostdiversity\n",
    "\n",
    "UMlowdiversity\n",
    "\n",
    "# host_city=host_city[['Country','Year']]\n",
    "\n",
    "BT_by_sport=BTdf[['Sport','minority_value','majority_value']]\n",
    "\n",
    "top_diversity= BT_by_sport.iloc[:3]\n",
    "middle_diversity=BT_by_sport.iloc[13:16]\n",
    "low_diversity=BT_by_sport.iloc[26:29]\n",
    "\n",
    "print(top_diversity)\n",
    "labels = ['Minority','White']\n",
    "\n",
    "mbball_values=[(top_diversity['minority_value'].iloc[0]),(top_diversity['majority_value'].iloc[0])]\n",
    "wbball__values=[(top_diversity['minority_value'].iloc[1]),(top_diversity['majority_value'].iloc[1])]\n",
    "Fball__values= [(top_diversity['minority_value'].iloc[2]),(top_diversity['majority_value'].iloc[2])]\n",
    "\n",
    "WLax_values=[(low_diversity['minority_value'].iloc[0]),(low_diversity['majority_value'].iloc[0])]\n",
    "WCC__values=[(low_diversity['minority_value'].iloc[1]),(low_diversity['majority_value'].iloc[1])]\n",
    "Baseball__values= [(low_diversity['minority_value'].iloc[2]),(low_diversity['majority_value'].iloc[2])]\n",
    "\n",
    "wopo_values=[(middle_diversity['minority_value'].iloc[0]),(middle_diversity['majority_value'].iloc[0])]\n",
    "wrestle__values=[(middle_diversity['minority_value'].iloc[1]),(middle_diversity['majority_value'].iloc[1])]\n",
    "volly__values= [(middle_diversity['minority_value'].iloc[2]),(middle_diversity['majority_value'].iloc[2])]\n",
    "print(low_diversity)\n",
    "print(middle_diversity)\n",
    "\n",
    "\n",
    "fig = {\n",
    "    'data': [\n",
    "        {\n",
    "            'labels': ['Minority','White'],\n",
    "            'values': wbball_values,\n",
    "            'type': 'pie',\n",
    "            'name': 'Womens Basketball',\n",
    "            'marker': {'colors': ['rgb(251, 214, 82)',\n",
    "                                  'rgb(81, 118, 251)']},\n",
    "            'domain': {'x': [0, 0.25],\n",
    "                       'y': [0, 0.25]},\n",
    "            'hoverinfo':'label+percent+name',\n",
    "            'text': ['Womens Bball'], \n",
    "             'textinfo':'text+percent'\n",
    "        },\n",
    "        {\n",
    "            'labels': ['Minority','White'],\n",
    "            'values': mbball__values,\n",
    "            'marker': {'colors': ['rgb(251, 214, 82)',\n",
    "                                  'rgb(81, 118, 251)']},\n",
    "            'type': 'pie',\n",
    "            'name': 'Mens Basketball',\n",
    "            'domain': {'x': [0.38, 0.63],\n",
    "                       'y': [0, 0.25]},\n",
    "            'hoverinfo':'label+percent+name',\n",
    "            'text': ['Mens Bball'], \n",
    "             'textinfo':'text+percent'\n",
    "\n",
    "        },\n",
    "        {\n",
    "            'labels': ['Minority','White'],\n",
    "            'values': Fball__values,\n",
    "            'marker': {'colors': ['rgb(251, 214, 82)',\n",
    "                                  'rgb(81, 118, 251)']},\n",
    "            'type': 'pie',\n",
    "            'name': 'Football',\n",
    "            'domain': {'x': [0.75, 1],\n",
    "                       'y': [0, 0.25]},\n",
    "            'hoverinfo':'label+percent+name',\n",
    "            'text': ['Football'], \n",
    "             'textinfo':'text+percent'\n",
    "        },\n",
    "        {\n",
    "            'labels': ['Minority','White'],\n",
    "            'values': feildhoc_values,\n",
    "            'marker': {'colors': ['rgb(251, 214, 82)',\n",
    "                                  'rgb(81, 118, 251)']},\n",
    "            'type': 'pie',\n",
    "            'name': 'Feild Hockey',\n",
    "            'domain': {'x': [0, 0.25],\n",
    "                       'y': [0.38, 0.63]},\n",
    "            'hoverinfo':'label+percent+name',\n",
    "            'text': ['Feild Hockey'], \n",
    "             'textinfo':'text+percent'\n",
    "        },\n",
    "         {\n",
    "            'labels': ['Minority','White'],\n",
    "            'values': softball__values,\n",
    "            'marker': {'colors': ['rgb(251, 214, 82)',\n",
    "                                  'rgb(81, 118, 251)']},\n",
    "            'type': 'pie',\n",
    "            'name': 'Softball',\n",
    "            'domain': {'x': [0.38, 0.63],\n",
    "                       'y': [0.38, 0.63]},\n",
    "            'hoverinfo':'label+percent+name',\n",
    "             'text': ['Softball'], \n",
    "             'textinfo':'text+percent'\n",
    "\n",
    "        },\n",
    "         {\n",
    "            'labels': ['Minority','White'],\n",
    "            'values': wrestle__values,\n",
    "            'marker': {'colors': ['rgb(251, 214, 82)',\n",
    "                                  'rgb(81, 118, 251)']},\n",
    "            'type': 'pie',\n",
    "            'name': 'Wrestling',\n",
    "            'domain': {'x': [0.75, 1],\n",
    "                       'y': [0.38, 0.63]},\n",
    "            'hoverinfo':'label+percent+name',\n",
    "             'text': ['Wrestling'], \n",
    "             'textinfo':'text+percent'\n",
    "\n",
    "        },\n",
    "        {\n",
    "            'labels': ['Minority','White'],\n",
    "            'values': MCC_values,\n",
    "            'marker': {'colors': ['rgb(251, 214, 82)',\n",
    "                                  'rgb(81, 118, 251)']},\n",
    "            'type': 'pie',\n",
    "            'name': 'Mens Cross Country',\n",
    "            'domain': {'x': [0, 0.25],\n",
    "                       'y': [0.70,0.95]},\n",
    "            'hoverinfo':'label+percent+name',\n",
    "            'text': ['Mens CrossCountry'],\n",
    "            'textinfo':'text+percent'\n",
    "\n",
    "        },\n",
    "        {\n",
    "            'labels': ['Minority','White'],\n",
    "            'values': soccer__values,\n",
    "            'marker': {'colors': ['rgb(251, 214, 82)',\n",
    "                                  'rgb(81, 118, 251)']},\n",
    "            'type': 'pie',\n",
    "            'name': 'Womens Soccer',\n",
    "            'domain': {'x': [0.38, 0.63],\n",
    "                       'y': [0.70, 0.95]},\n",
    "            'hoverinfo':'label+percent+name',\n",
    "            'text': ['Womens Soccer'],\n",
    "            'textinfo':'text+percent'\n",
    "\n",
    "        },\n",
    "        {\n",
    "            'labels': ['Minority','White'],\n",
    "            'values': WCC__values,\n",
    "            'marker': {'colors': ['rgb(251, 214, 82)',\n",
    "                                  'rgb(81, 118, 251)']},\n",
    "            'type': 'pie',\n",
    "            'name': 'Womens Cross Country',\n",
    "            'domain': {'x': [0.75, 1],\n",
    "                       'y': [0.70, 0.95]},\n",
    "            'hoverinfo':'label+percent+name',\n",
    "            'text': ['Womens CrossCountry'],\n",
    "            'textinfo':'text+percent'\n",
    "\n",
    "        },\n",
    "\n",
    "    ],\n",
    "    'layout': {'title': 'Big-10 Minority Proportions By Sport, 2017',\n",
    "               'showlegend': True,}\n",
    "    \n",
    "}\n",
    "\n",
    "py.iplot(fig, filename='BT_bysport_pie_chart')"
   ]
  },
  {
   "cell_type": "markdown",
   "metadata": {},
   "source": [
    "## Pie chart comparing Michigan's minority proportion to: \n",
    "* Pac12, SEC, Big12, Big10, ACC and all conferences "
   ]
  },
  {
   "cell_type": "code",
   "execution_count": 107,
   "metadata": {},
   "outputs": [
    {
     "name": "stderr",
     "output_type": "stream",
     "text": [
      "/Applications/anaconda3/lib/python3.6/site-packages/IPython/core/display.py:689: UserWarning:\n",
      "\n",
      "Consider using IPython.display.IFrame instead\n",
      "\n"
     ]
    },
    {
     "data": {
      "text/html": [
       "<iframe id=\"igraph\" scrolling=\"no\" style=\"border:none;\" seamless=\"seamless\" src=\"https://plot.ly/~libbymur/143.embed\" height=\"525px\" width=\"100%\"></iframe>"
      ],
      "text/plain": [
       "<chart_studio.tools.PlotlyDisplay object>"
      ]
     },
     "execution_count": 107,
     "metadata": {},
     "output_type": "execute_result"
    }
   ],
   "source": [
    "labels = ['Minority','White']\n",
    "values = [BTminority_value,BTmajority_value]\n",
    "\n",
    "trace = go.Pie(labels=labels, values=values)\n",
    "\n",
    "py.iplot([trace], filename='basic_pie_chart')"
   ]
  },
  {
   "cell_type": "code",
   "execution_count": 108,
   "metadata": {},
   "outputs": [
    {
     "name": "stderr",
     "output_type": "stream",
     "text": [
      "/Applications/anaconda3/lib/python3.6/site-packages/IPython/core/display.py:689: UserWarning:\n",
      "\n",
      "Consider using IPython.display.IFrame instead\n",
      "\n"
     ]
    },
    {
     "data": {
      "text/html": [
       "<iframe id=\"igraph\" scrolling=\"no\" style=\"border:none;\" seamless=\"seamless\" src=\"https://plot.ly/~libbymur/143.embed\" height=\"525px\" width=\"100%\"></iframe>"
      ],
      "text/plain": [
       "<chart_studio.tools.PlotlyDisplay object>"
      ]
     },
     "execution_count": 108,
     "metadata": {},
     "output_type": "execute_result"
    }
   ],
   "source": [
    "labels = ['Minority','White']\n",
    "values = [percent_minority,total_majority]\n",
    "\n",
    "trace = go.Pie(labels=labels, values=values)\n",
    "\n",
    "py.iplot([trace], filename='basic_pie_chart')"
   ]
  },
  {
   "cell_type": "markdown",
   "metadata": {},
   "source": [
    "* Michigan 3.1% less diverse than Bigten ( 29.6% and 32.7% respectively)\n",
    "* Michigan is 11.6% less diverse than the total percentage of the national diversity for D! schools."
   ]
  },
  {
   "cell_type": "markdown",
   "metadata": {},
   "source": [
    "Michigan only - which sports are more diverse and least diverse"
   ]
  },
  {
   "cell_type": "markdown",
   "metadata": {},
   "source": [
    "http://www.ncaa.org/about/resources/research/ncaa-demographics-database"
   ]
  },
  {
   "cell_type": "code",
   "execution_count": 109,
   "metadata": {},
   "outputs": [
    {
     "name": "stderr",
     "output_type": "stream",
     "text": [
      "/Applications/anaconda3/lib/python3.6/site-packages/IPython/core/display.py:689: UserWarning:\n",
      "\n",
      "Consider using IPython.display.IFrame instead\n",
      "\n"
     ]
    },
    {
     "data": {
      "text/html": [
       "<iframe id=\"igraph\" scrolling=\"no\" style=\"border:none;\" seamless=\"seamless\" src=\"https://plot.ly/~libbymur/139.embed\" height=\"525px\" width=\"100%\"></iframe>"
      ],
      "text/plain": [
       "<chart_studio.tools.PlotlyDisplay object>"
      ]
     },
     "execution_count": 109,
     "metadata": {},
     "output_type": "execute_result"
    }
   ],
   "source": [
    "\n",
    "\n",
    "\n",
    "fig = {\n",
    "  \"data\": [\n",
    "    {\n",
    "      \"values\": [minority_value,majority_value],\n",
    "      \"labels\": ['Minority','White'],\n",
    "        'marker': {'colors': ['rgb(251, 214, 82)',\n",
    "                                  'rgb(81, 118, 251)']},\n",
    "         \"text\":[\"Michigan\"],\n",
    "      \"domain\": {\"x\": [0, 0.25]},\n",
    "      \"name\": \"Michigan race proportion\",\n",
    "      \"hoverinfo\":\"label+percent+name\",\n",
    "      \"hole\": .4,\n",
    "      \"type\": \"pie\"\n",
    "    },\n",
    "    {\n",
    "      \"values\": [BTminority_value,BTmajority_value],\n",
    "      \"labels\": ['Minority','White'],\n",
    "        'marker': {'colors': ['rgb(251, 214, 82)',\n",
    "                                  'rgb(81, 118, 251)']},\n",
    "         \"text\":[\"BigTen\"],\n",
    "      \"domain\": {\"x\": [0.3, 0.55]},\n",
    "      \"name\": \"Big10 race proportion\",\n",
    "      \"hoverinfo\":\"label+percent+name\",\n",
    "      \"hole\": .4,\n",
    "      \"type\": \"pie\"\n",
    "    },\n",
    "    {\n",
    "      \"values\": [percent_minority,total_majority],\n",
    "      \"labels\": ['Minority','White'],\n",
    "        'marker': {'colors': ['rgb(251, 214, 82)',\n",
    "                                  'rgb(81, 118, 251)']},\n",
    "      \"text\":[\"All Conferences\"],\n",
    "      \"textposition\":\"inside\",\n",
    "      \"domain\": {\"x\": [0.65, 0.9]},\n",
    "      \"name\": \"All conferences race proportion\",\n",
    "      \"hoverinfo\":\"label+percent+name\",\n",
    "      \"hole\": .4,\n",
    "      \"type\": \"pie\"\n",
    "    }],\n",
    "  \"layout\": {\"title\":\"Student Athlete Race Proportion 2017\"}\n",
    "}\n",
    "py.iplot(fig, filename='donut')"
   ]
  },
  {
   "cell_type": "code",
   "execution_count": 110,
   "metadata": {},
   "outputs": [
    {
     "name": "stderr",
     "output_type": "stream",
     "text": [
      "/Applications/anaconda3/lib/python3.6/site-packages/IPython/core/display.py:689: UserWarning:\n",
      "\n",
      "Consider using IPython.display.IFrame instead\n",
      "\n"
     ]
    },
    {
     "data": {
      "text/html": [
       "<iframe id=\"igraph\" scrolling=\"no\" style=\"border:none;\" seamless=\"seamless\" src=\"https://plot.ly/~libbymur/139.embed\" height=\"525px\" width=\"100%\"></iframe>"
      ],
      "text/plain": [
       "<chart_studio.tools.PlotlyDisplay object>"
      ]
     },
     "execution_count": 110,
     "metadata": {},
     "output_type": "execute_result"
    }
   ],
   "source": [
    "fig = {\n",
    "  \"data\": [\n",
    "    {\n",
    "      \"values\": [minority_value,majority_value],\n",
    "      \"labels\": ['Minority','White'],\n",
    "        'marker': {'colors': ['rgb(251, 214, 82)',\n",
    "                                  'rgb(81, 118, 251)']},\n",
    "      \"domain\": {\"x\": [0, .48]},\n",
    "      \"name\": \"Michigan race proportions\",\n",
    "      \"hoverinfo\":\"label+percent+name\",\n",
    "      \"hole\": .4,\n",
    "      \"type\": \"pie\"\n",
    "    },\n",
    "    {\n",
    "      \"values\": [percent_minority,total_majority],\n",
    "      \"labels\": ['Minority','White'],\n",
    "        'marker': {'colors': ['rgb(251, 214, 82)',\n",
    "                                  'rgb(81, 118, 251)']},\n",
    "#       \"text\":[\"All Conferences\"],\n",
    "      \"textposition\":\"inside\",\n",
    "      \"domain\": {\"x\": [.52, 1]},\n",
    "      \"name\": \"All Conferences race proportions\",\n",
    "      \"hoverinfo\":\"label+percent+name\",\n",
    "      \"hole\": .4,\n",
    "      \"type\": \"pie\"\n",
    "    }],\n",
    "  \"layout\": {\n",
    "        \"title\":\"Student Athlete Diversity 2017\",\n",
    "        \"annotations\": [\n",
    "            {\n",
    "                \"font\": {\n",
    "                    \"size\": 20\n",
    "                },\n",
    "                \"showarrow\": False,\n",
    "                \"text\": \"Michigan\",\n",
    "                \"x\": 0.18,\n",
    "                \"y\": 0.5\n",
    "            },\n",
    "            {\n",
    "                \"font\": {\n",
    "                    \"size\": 20\n",
    "                },\n",
    "                \"showarrow\": False,\n",
    "                \"text\": \"All Conferences\",\n",
    "                \"x\": 0.85,\n",
    "                \"y\": 0.5\n",
    "            }\n",
    "        ]\n",
    "    }\n",
    "}\n",
    "py.iplot(fig, filename='donut')"
   ]
  },
  {
   "cell_type": "code",
   "execution_count": 111,
   "metadata": {},
   "outputs": [
    {
     "name": "stderr",
     "output_type": "stream",
     "text": [
      "/Applications/anaconda3/lib/python3.6/site-packages/IPython/core/display.py:689: UserWarning:\n",
      "\n",
      "Consider using IPython.display.IFrame instead\n",
      "\n"
     ]
    },
    {
     "data": {
      "text/html": [
       "<iframe id=\"igraph\" scrolling=\"no\" style=\"border:none;\" seamless=\"seamless\" src=\"https://plot.ly/~libbymur/149.embed\" height=\"525px\" width=\"100%\"></iframe>"
      ],
      "text/plain": [
       "<chart_studio.tools.PlotlyDisplay object>"
      ]
     },
     "execution_count": 111,
     "metadata": {},
     "output_type": "execute_result"
    }
   ],
   "source": [
    "\n",
    "\n",
    "fig = {'data':[{'labels': ['Minority','White'],\n",
    "               'values': [minority_value,majority_value], \n",
    "                'type': 'pie',\n",
    "               'marker': {'colors': ['rgb(251, 214, 82)',\n",
    "                                  'rgb(81, 118, 251)']}}],\n",
    "      'layout': {'title': 'Minority Ratio'}}\n",
    "\n",
    "py.iplot(fig)\n"
   ]
  },
  {
   "cell_type": "code",
   "execution_count": 112,
   "metadata": {},
   "outputs": [
    {
     "name": "stderr",
     "output_type": "stream",
     "text": [
      "/Applications/anaconda3/lib/python3.6/site-packages/IPython/core/display.py:689: UserWarning:\n",
      "\n",
      "Consider using IPython.display.IFrame instead\n",
      "\n"
     ]
    },
    {
     "data": {
      "text/html": [
       "<iframe id=\"igraph\" scrolling=\"no\" style=\"border:none;\" seamless=\"seamless\" src=\"https://plot.ly/~libbymur/141.embed\" height=\"525px\" width=\"100%\"></iframe>"
      ],
      "text/plain": [
       "<chart_studio.tools.PlotlyDisplay object>"
      ]
     },
     "execution_count": 112,
     "metadata": {},
     "output_type": "execute_result"
    }
   ],
   "source": [
    "import plotly.plotly as py\n",
    "import plotly.graph_objs as go\n",
    "\n",
    "fig = {\n",
    "    'data': [\n",
    "        {\n",
    "            'labels': ['Minority','White'],\n",
    "            'values': [PACminority_value,PACmajority_value],\n",
    "            'type': 'pie',\n",
    "            'name': 'PAC12',\n",
    "            'marker': {'colors': ['rgb(251, 214, 82)',\n",
    "                                  'rgb(81, 118, 251)']},\n",
    "            'domain': {'x': [0, 0.25],\n",
    "                       'y': [0, 0.45]},\n",
    "            'hoverinfo':'label+percent+name',\n",
    "            'textinfo':'value'\n",
    "        },\n",
    "        {\n",
    "            'labels': ['Minority','White'],\n",
    "            'values': [ACCminority_value,ACCmajority_value],\n",
    "            'marker': {'colors': ['rgb(251, 214, 82)',\n",
    "                                  'rgb(81, 118, 251)']},\n",
    "            'type': 'pie',\n",
    "            'name': 'ACCs',\n",
    "            'domain': {'x': [0.3, 0.55],\n",
    "                       'y': [0, 0.45]},\n",
    "            'hoverinfo':'label+percent+name',\n",
    "            'textinfo':'none'\n",
    "\n",
    "        },\n",
    "        {\n",
    "            'labels': ['Minority','White'],\n",
    "            'values': [SECminority_value,SECmajority_value],\n",
    "            'marker': {'colors': ['rgb(251, 214, 82)',\n",
    "                                  'rgb(81, 118, 251)']},\n",
    "            'type': 'pie',\n",
    "            'name': 'SEC',\n",
    "            'domain': {'x': [0, 0.25],\n",
    "                       'y': [0.55, 1]},\n",
    "            'hoverinfo':'label+percent+name',\n",
    "            'textinfo':'none'\n",
    "        },\n",
    "        {\n",
    "            'labels': ['Minority','White'],\n",
    "            'values': [B12minority_value,B12majority_value],\n",
    "            'marker': {'colors': ['rgb(251, 214, 82)',\n",
    "                                  'rgb(81, 118, 251)']},\n",
    "            'type': 'pie',\n",
    "            'name': 'Big12',\n",
    "            'domain': {'x': [0.3, 0.55],\n",
    "                       'y': [0.55, 1]},\n",
    "            'hoverinfo':'label+percent+name',\n",
    "            'textinfo':'none'\n",
    "        },\n",
    "         {\n",
    "            'labels': ['Minority','White'],\n",
    "            'values': [BTminority_value,BTmajority_value],\n",
    "            'marker': {'colors': ['rgb(251, 214, 82)',\n",
    "                                  'rgb(81, 118, 251)']},\n",
    "            'type': 'pie',\n",
    "            'name': 'B10',\n",
    "            'domain': {'x': [0.65, 0.9],\n",
    "                       'y': [0.55, 1]},\n",
    "            'hoverinfo':'label+percent+name',\n",
    "            'textinfo':'none'\n",
    "\n",
    "        },\n",
    "         {\n",
    "            'labels': ['Minority','White'],\n",
    "            'values': [percent_minority,total_majority],\n",
    "            'marker': {'colors': ['rgb(251, 214, 82)',\n",
    "                                  'rgb(81, 118, 251)']},\n",
    "            'type': 'pie',\n",
    "            'name': 'All Conferences',\n",
    "            'domain': {'x': [0.65, 0.9],\n",
    "                       'y': [0, 0.45]},\n",
    "            'hoverinfo':'label+percent+name',\n",
    "            'textinfo':'none'\n",
    "\n",
    "        },\n",
    "\n",
    "    ],\n",
    "    'layout': {'title': 'Diversity Proportions',\n",
    "               'showlegend': True,\n",
    "               \"annotations\":[\n",
    "                   {\n",
    "                       \"font\": {\n",
    "                    \"size\": 20\n",
    "                },\n",
    "                \"showarrow\": False,\n",
    "                \"text\": \"SEC\",\n",
    "                \"x\": 0.30,\n",
    "                \"y\": 0.6\n",
    "                   },\n",
    "                   {\n",
    "                        \"font\": {\n",
    "                    \"size\": 20\n",
    "                },\n",
    "                \"showarrow\": False,\n",
    "                \"text\": \"SEC\",\n",
    "                \"x\": 0.30,\n",
    "                \"y\": 0.6\n",
    "                   },\n",
    "                   {\n",
    "                        \"font\": {\n",
    "                    \"size\": 20\n",
    "                },\n",
    "                \"showarrow\": False,\n",
    "                \"text\": \"SEC\",\n",
    "                \"x\": 0.30,\n",
    "                \"y\": 0.6\n",
    "                   },\n",
    "                   {\n",
    "                        \"font\": {\n",
    "                    \"size\": 20\n",
    "                },\n",
    "                \"showarrow\": False,\n",
    "                \"text\": \"PAC12\",\n",
    "                \"x\": 0.30,\n",
    "                \"y\": 0.1\n",
    "                   },\n",
    "                   {\n",
    "                        \"font\": {\n",
    "                    \"size\": 20\n",
    "                },\n",
    "                \"showarrow\": False,\n",
    "                \"text\": \"BIG12\",\n",
    "                \"x\": 0.7,\n",
    "                \"y\": 0.6\n",
    "                   },\n",
    "                   {\n",
    "                        \"font\": {\n",
    "                    \"size\": 20\n",
    "                },\n",
    "                \"showarrow\": False,\n",
    "                \"text\": \"ACC\",\n",
    "                \"x\": 0.7,\n",
    "                \"y\": 0.1\n",
    "                   }\n",
    "                   \n",
    "               ]\n",
    "              }\n",
    "    \n",
    "}\n",
    "\n",
    "py.iplot(fig, filename='pie_chart_subplots')"
   ]
  },
  {
   "cell_type": "code",
   "execution_count": 113,
   "metadata": {},
   "outputs": [
    {
     "name": "stderr",
     "output_type": "stream",
     "text": [
      "/Applications/anaconda3/lib/python3.6/site-packages/IPython/core/display.py:689: UserWarning:\n",
      "\n",
      "Consider using IPython.display.IFrame instead\n",
      "\n"
     ]
    },
    {
     "data": {
      "text/html": [
       "<iframe id=\"igraph\" scrolling=\"no\" style=\"border:none;\" seamless=\"seamless\" src=\"https://plot.ly/~libbymur/141.embed\" height=\"525px\" width=\"100%\"></iframe>"
      ],
      "text/plain": [
       "<chart_studio.tools.PlotlyDisplay object>"
      ]
     },
     "execution_count": 113,
     "metadata": {},
     "output_type": "execute_result"
    }
   ],
   "source": [
    "fig = {\n",
    "    'data': [\n",
    "        {\n",
    "            'labels': ['Minority','White'],\n",
    "            'values': [PACminority_value,PACmajority_value],\n",
    "            'type': 'pie',\n",
    "            'name': 'PAC12',\n",
    "            'marker': {'colors': ['rgb(251, 214, 82)',\n",
    "                                  'rgb(81, 118, 251)']},\n",
    "            'domain': {'x': [0, 0.25],\n",
    "                       'y': [0, 0.25]},\n",
    "            'hoverinfo':'label+percent+name',\n",
    "            'textinfo':'percent',\n",
    "            #'text': 'Pace-12',\n",
    "            'textinfo':'percent'\n",
    "        },\n",
    "        {\n",
    "            'labels': ['Minority','White'],\n",
    "            'values': [ACCminority_value,ACCmajority_value],\n",
    "            'marker': {'colors': ['rgb(251, 214, 82)',\n",
    "                                  'rgb(81, 118, 251)']},\n",
    "            'type': 'pie',\n",
    "            'name': 'ACCs',\n",
    "            'domain': {'x': [0.38, 0.63],\n",
    "                       'y': [0, 0.25]},\n",
    "            'hoverinfo':'label+percent+name',\n",
    "            'textinfo':'percent'\n",
    "\n",
    "        },\n",
    "        {\n",
    "            'labels': ['Minority','White'],\n",
    "            'values': [SECminority_value,SECmajority_value],\n",
    "            'marker': {'colors': ['rgb(251, 214, 82)',\n",
    "                                  'rgb(81, 118, 251)']},\n",
    "            'type': 'pie',\n",
    "            'name': 'SEC',\n",
    "            'domain': {'x': [0, 0.25],\n",
    "                       'y': [0.38, 0.63]},\n",
    "            'hoverinfo':'label+percent+name',\n",
    "            'textinfo':'percent'\n",
    "        },\n",
    "        {\n",
    "            'labels': ['Minority','White'],\n",
    "            'values': [B12minority_value,B12majority_value],\n",
    "            'marker': {'colors': ['rgb(251, 214, 82)',\n",
    "                                  'rgb(81, 118, 251)']},\n",
    "            'type': 'pie',\n",
    "            'name': 'Big12',\n",
    "            'domain': {'x': [0.38, 0.63],\n",
    "                       'y': [0.38, 0.63]},\n",
    "            'hoverinfo':'label+percent+name',\n",
    "            'textinfo':'percent'\n",
    "        },\n",
    "         {\n",
    "            'labels': ['Minority','White'],\n",
    "            'values': [BTminority_value,BTmajority_value],\n",
    "            'marker': {'colors': ['rgb(251, 214, 82)',\n",
    "                                  'rgb(81, 118, 251)']},\n",
    "            'type': 'pie',\n",
    "            'name': 'B10',\n",
    "            'domain': {'x': [0.75, 1],\n",
    "                       'y': [0.38, 0.63]},\n",
    "            'hoverinfo':'label+percent+name',\n",
    "            'textinfo':'percent'\n",
    "\n",
    "        },\n",
    "         {\n",
    "            'labels': ['Minority','White'],\n",
    "            'values': [percent_minority,total_majority],\n",
    "            'marker': {'colors': ['rgb(251, 214, 82)',\n",
    "                                  'rgb(81, 118, 251)']},\n",
    "            'type': 'pie',\n",
    "            'name': 'All Conferences',\n",
    "            'domain': {'x': [0.75, 1],\n",
    "                       'y': [0, 0.25]},\n",
    "            'hoverinfo':'label+percent+name',\n",
    "            'textinfo':'percent'\n",
    "\n",
    "        },\n",
    "        {\n",
    "            'labels': ['Minority','White'],\n",
    "            'values': [minority_value,majority_value],\n",
    "            'marker': {'colors': ['rgb(251, 214, 82)',\n",
    "                                  'rgb(81, 118, 251)']},\n",
    "            'type': 'pie',\n",
    "            'name': 'Michigan',\n",
    "            'domain': {'x': [0.38, 0.63],\n",
    "                       'y': [0.75, 1]},\n",
    "            'hoverinfo':'label+percent+name',\n",
    "            'textinfo':'percent'\n",
    "\n",
    "        },\n",
    "\n",
    "    ],\n",
    "    'layout': {'title': 'Minority Proportions 2017',\n",
    "               'showlegend': True,\n",
    "              }\n",
    "    \n",
    "}\n",
    "\n",
    "py.iplot(fig, filename='pie_chart_subplots')"
   ]
  },
  {
   "cell_type": "code",
   "execution_count": 114,
   "metadata": {},
   "outputs": [
    {
     "name": "stdout",
     "output_type": "stream",
     "text": [
      "0.14.6\n"
     ]
    }
   ],
   "source": [
    "import plotly.plotly as py\n",
    "import cufflinks as cf\n",
    "import pandas as pd\n",
    "import numpy as np\n",
    "print (cf.__version__)"
   ]
  },
  {
   "cell_type": "code",
   "execution_count": 115,
   "metadata": {},
   "outputs": [],
   "source": [
    "x=['Big Ten','ACC','SEC','PAC','Big12']\n",
    "y=[BTtotal_minority,ACCtotal_minority,SECtotal_minority,PACtotal_minority,B12total_minority]\n",
    "z=[BTtotal_students,ACCtotal_students,SECtotal_students,PACtotal_students,B12total_students]\n",
    "\n",
    "trace0= go.Bar(x=x,y=y,name='Minority')\n",
    "trace1= go.Bar(x=x,y=z,name='All Students')\n",
    "\n",
    "data = [trace0,trace1]\n",
    "layout= dict(title='Diversity Ratio All conferences',xaxis= dict(title='x-axis'),yaxis= dict(title='y-axis'))\n",
    "\n",
    "\n"
   ]
  },
  {
   "cell_type": "code",
   "execution_count": 116,
   "metadata": {},
   "outputs": [
    {
     "name": "stderr",
     "output_type": "stream",
     "text": [
      "/Applications/anaconda3/lib/python3.6/site-packages/IPython/core/display.py:689: UserWarning:\n",
      "\n",
      "Consider using IPython.display.IFrame instead\n",
      "\n"
     ]
    },
    {
     "data": {
      "text/html": [
       "<iframe id=\"igraph\" scrolling=\"no\" style=\"border:none;\" seamless=\"seamless\" src=\"https://plot.ly/~libbymur/151.embed\" height=\"525px\" width=\"100%\"></iframe>"
      ],
      "text/plain": [
       "<chart_studio.tools.PlotlyDisplay object>"
      ]
     },
     "execution_count": 116,
     "metadata": {},
     "output_type": "execute_result"
    }
   ],
   "source": [
    "cf.set_config_file(offline=False, world_readable=True, theme='ggplot')\n",
    "\n",
    "# df = pd.DataFrame(np.random.rand(10, 4), columns=['A', 'B', 'C', 'D'])\n",
    "michigan.iplot(kind='bar')#, filename='cufflinks/grouped-bar-chart')"
   ]
  },
  {
   "cell_type": "code",
   "execution_count": 117,
   "metadata": {},
   "outputs": [
    {
     "data": {
      "text/html": [
       "<div>\n",
       "<style scoped>\n",
       "    .dataframe tbody tr th:only-of-type {\n",
       "        vertical-align: middle;\n",
       "    }\n",
       "\n",
       "    .dataframe tbody tr th {\n",
       "        vertical-align: top;\n",
       "    }\n",
       "\n",
       "    .dataframe thead th {\n",
       "        text-align: right;\n",
       "    }\n",
       "</style>\n",
       "<table border=\"1\" class=\"dataframe\">\n",
       "  <thead>\n",
       "    <tr style=\"text-align: right;\">\n",
       "      <th></th>\n",
       "      <th>Group</th>\n",
       "      <th>Minority</th>\n",
       "      <th>White</th>\n",
       "    </tr>\n",
       "  </thead>\n",
       "  <tbody>\n",
       "    <tr>\n",
       "      <th>0</th>\n",
       "      <td>Michigan</td>\n",
       "      <td>0.295890</td>\n",
       "      <td>0.704110</td>\n",
       "    </tr>\n",
       "    <tr>\n",
       "      <th>1</th>\n",
       "      <td>BigTen</td>\n",
       "      <td>0.327075</td>\n",
       "      <td>0.672925</td>\n",
       "    </tr>\n",
       "    <tr>\n",
       "      <th>2</th>\n",
       "      <td>All conferences</td>\n",
       "      <td>0.411804</td>\n",
       "      <td>0.588196</td>\n",
       "    </tr>\n",
       "  </tbody>\n",
       "</table>\n",
       "</div>"
      ],
      "text/plain": [
       "             Group  Minority     White\n",
       "0         Michigan  0.295890  0.704110\n",
       "1           BigTen  0.327075  0.672925\n",
       "2  All conferences  0.411804  0.588196"
      ]
     },
     "execution_count": 117,
     "metadata": {},
     "output_type": "execute_result"
    }
   ],
   "source": [
    "data = [['Michigan', minority_value, majority_value],['BigTen',BTminority_value,BTmajority_value],['All conferences',percent_minority,total_majority]]\n",
    "d2 = pd.DataFrame(data,columns=['Group','Minority', 'White'])\n",
    "d2"
   ]
  },
  {
   "cell_type": "code",
   "execution_count": 118,
   "metadata": {},
   "outputs": [
    {
     "name": "stderr",
     "output_type": "stream",
     "text": [
      "/Applications/anaconda3/lib/python3.6/site-packages/IPython/core/display.py:689: UserWarning:\n",
      "\n",
      "Consider using IPython.display.IFrame instead\n",
      "\n"
     ]
    },
    {
     "data": {
      "text/html": [
       "<iframe id=\"igraph\" scrolling=\"no\" style=\"border:none;\" seamless=\"seamless\" src=\"https://plot.ly/~libbymur/153.embed\" height=\"525px\" width=\"100%\"></iframe>"
      ],
      "text/plain": [
       "<chart_studio.tools.PlotlyDisplay object>"
      ]
     },
     "execution_count": 118,
     "metadata": {},
     "output_type": "execute_result"
    }
   ],
   "source": [
    "# [[BTtotal_minority,BTtotal_students],[total_allminority,total_allstudents],[um_total_students,um_total_minority]]\n",
    "x=['Michigan', 'Big Ten', 'All Conferences']\n",
    "y=[um_total_minority,BTtotal_minority,total_allminority]\n",
    "z=[um_total_students,BTtotal_students,total_allstudents]\n",
    "\n",
    "trace0= go.Bar(x=x,y=y,name='Minority')\n",
    "trace1= go.Bar(x=x,y=z,name='All Students')\n",
    "\n",
    "data = [trace0,trace1]\n",
    "layout= dict(title='Diversity Ratio All Conferences',xaxis= dict(title='Conference'),yaxis= dict(title='Number of Student-Athletes'))\n",
    "\n",
    "\n",
    "fig = dict(data=data , layout=layout)\n",
    "py.iplot(fig, filename='Student-population')\n"
   ]
  },
  {
   "cell_type": "code",
   "execution_count": 119,
   "metadata": {},
   "outputs": [
    {
     "name": "stderr",
     "output_type": "stream",
     "text": [
      "/Applications/anaconda3/lib/python3.6/site-packages/IPython/core/display.py:689: UserWarning:\n",
      "\n",
      "Consider using IPython.display.IFrame instead\n",
      "\n"
     ]
    },
    {
     "data": {
      "text/html": [
       "<iframe id=\"igraph\" scrolling=\"no\" style=\"border:none;\" seamless=\"seamless\" src=\"https://plot.ly/~libbymur/155.embed\" height=\"525px\" width=\"100%\"></iframe>"
      ],
      "text/plain": [
       "<chart_studio.tools.PlotlyDisplay object>"
      ]
     },
     "execution_count": 119,
     "metadata": {},
     "output_type": "execute_result"
    }
   ],
   "source": [
    "x=['Big Ten','ACC','SEC','PAC','Big12']\n",
    "y=[BTtotal_minority,ACCtotal_minority,SECtotal_minority,PACtotal_minority,B12total_minority]\n",
    "z=[BTtotal_students,ACCtotal_students,SECtotal_students,PACtotal_students,B12total_students]\n",
    "\n",
    "trace0= go.Bar(x=x,y=y,name='Minority')\n",
    "trace1= go.Bar(x=x,y=z,name='All Students')\n",
    "\n",
    "data = [trace0,trace1]\n",
    "layout= dict(title='Diversity Ratio All Conferences',xaxis= dict(title='Conference'),yaxis= dict(title='Number of Student-Athletes'))\n",
    "\n",
    "\n",
    "fig = dict(data=data , layout=layout)\n",
    "py.iplot(fig, filename='Student-minority-population')\n"
   ]
  },
  {
   "cell_type": "code",
   "execution_count": 120,
   "metadata": {},
   "outputs": [
    {
     "name": "stderr",
     "output_type": "stream",
     "text": [
      "/Applications/anaconda3/lib/python3.6/site-packages/IPython/core/display.py:689: UserWarning:\n",
      "\n",
      "Consider using IPython.display.IFrame instead\n",
      "\n"
     ]
    },
    {
     "data": {
      "text/html": [
       "<iframe id=\"igraph\" scrolling=\"no\" style=\"border:none;\" seamless=\"seamless\" src=\"https://plot.ly/~libbymur/157.embed\" height=\"525px\" width=\"100%\"></iframe>"
      ],
      "text/plain": [
       "<chart_studio.tools.PlotlyDisplay object>"
      ]
     },
     "execution_count": 120,
     "metadata": {},
     "output_type": "execute_result"
    }
   ],
   "source": [
    "# UMlowdiversity=umich.tail(3)['Sport']\n",
    "# UMmostdiversity=umich.head(3)['Sport']\n",
    "# BTlowdiversity=BTdf.tail(3)['Sport']\n",
    "# BTmostdiversity=BTdf.head(3)['Sport']\n",
    "\n",
    "um_bysport= michigan.reset_index()\n",
    "um_bysport['total']= umich.sum(axis=1)\n",
    "um_bysport['majority_value']=um_bysport['White']/um_bysport['total']\n",
    "um_bysport['minority_value'] = 1 - um_bysport['majority_value'] \n",
    "\n",
    "\n",
    "\n",
    "data = [go.Bar(x=umich.Sport,\n",
    "            y=umich.minority_value)]\n",
    "layout= dict(title='Michigan Race Breakdown by Sport',yaxis= dict(title='Minority Proportion'))\n",
    "\n",
    "\n",
    "fig = dict(data=data , layout=layout)\n",
    "\n",
    "py.iplot(fig, filenbame='Michigan_by_sport')"
   ]
  },
  {
   "cell_type": "markdown",
   "metadata": {},
   "source": [
    "plotly reference: \n",
    "file:///Users/libbymurray/Documents/F18/SI370/day7%20(1)/370_07_Visualization_II.html"
   ]
  },
  {
   "cell_type": "code",
   "execution_count": 121,
   "metadata": {},
   "outputs": [
    {
     "name": "stderr",
     "output_type": "stream",
     "text": [
      "/Applications/anaconda3/lib/python3.6/site-packages/IPython/core/display.py:689: UserWarning:\n",
      "\n",
      "Consider using IPython.display.IFrame instead\n",
      "\n"
     ]
    },
    {
     "data": {
      "text/html": [
       "<iframe id=\"igraph\" scrolling=\"no\" style=\"border:none;\" seamless=\"seamless\" src=\"https://plot.ly/~libbymur/159.embed\" height=\"525px\" width=\"100%\"></iframe>"
      ],
      "text/plain": [
       "<chart_studio.tools.PlotlyDisplay object>"
      ]
     },
     "execution_count": 121,
     "metadata": {},
     "output_type": "execute_result"
    }
   ],
   "source": [
    "mdf2= michigan.reset_index()\n",
    "mdf2['total']= mdf2.sum(axis=1)\n",
    "mdf2['majority_value']=mdf2['White']/umich['total']\n",
    "mdf2['minority_value'] = 1 - mdf2['majority_value'] \n",
    "mdf2.set_index('Sport')\n",
    "\n",
    "data = [go.Bar(x=mdf2.Sport,\n",
    "            y=mdf2.minority_value)]\n",
    "layout= dict(title='Michigan Race Breakdown by Sport',yaxis= dict(title='Minority Proportion'))\n",
    "\n",
    "\n",
    "fig = dict(data=data , layout=layout)\n",
    "\n",
    "py.iplot(fig, filenbame='by_sport_bar')"
   ]
  },
  {
   "cell_type": "code",
   "execution_count": 122,
   "metadata": {},
   "outputs": [
    {
     "name": "stderr",
     "output_type": "stream",
     "text": [
      "/Applications/anaconda3/lib/python3.6/site-packages/IPython/core/display.py:689: UserWarning:\n",
      "\n",
      "Consider using IPython.display.IFrame instead\n",
      "\n"
     ]
    },
    {
     "data": {
      "text/html": [
       "<iframe id=\"igraph\" scrolling=\"no\" style=\"border:none;\" seamless=\"seamless\" src=\"https://plot.ly/~libbymur/161.embed\" height=\"525px\" width=\"100%\"></iframe>"
      ],
      "text/plain": [
       "<chart_studio.tools.PlotlyDisplay object>"
      ]
     },
     "execution_count": 122,
     "metadata": {},
     "output_type": "execute_result"
    }
   ],
   "source": [
    "BTnew_df= BTall_students.reset_index()\n",
    "BTnew_df['total']= BTnew_df.sum(axis=1)\n",
    "BTnew_df['majority_value']=BTnew_df['White']/BTdf['total']\n",
    "BTnew_df['minority_value'] = 1 - BTnew_df['majority_value'] \n",
    "BTnew_df.set_index('Sport')\n",
    "\n",
    "data = [go.Bar(x=BTnew_df.Sport,\n",
    "            y=BTnew_df.minority_value)]\n",
    "layout= dict(title='Big-10 Race Breakdown by Sport',yaxis= dict(title='Minority Proportion'))\n",
    "\n",
    "\n",
    "fig = dict(data=data , layout=layout)\n",
    "\n",
    "py.iplot(fig, filenbame='Bug10_by_sport_bar')"
   ]
  },
  {
   "cell_type": "markdown",
   "metadata": {},
   "source": [
    "how to analysis time trends with this data: http://www.ncaa.org/about/resources/research/ncaa-demographics-database\n"
   ]
  },
  {
   "cell_type": "markdown",
   "metadata": {},
   "source": [
    "How to overlap barcharts by sport? "
   ]
  },
  {
   "cell_type": "markdown",
   "metadata": {},
   "source": [
    "## 5 year span "
   ]
  },
  {
   "cell_type": "code",
   "execution_count": 123,
   "metadata": {},
   "outputs": [],
   "source": [
    "timeline_df=pd.read_excel(filename,sheet_name=3)"
   ]
  },
  {
   "cell_type": "code",
   "execution_count": 124,
   "metadata": {},
   "outputs": [
    {
     "data": {
      "text/html": [
       "<div>\n",
       "<style scoped>\n",
       "    .dataframe tbody tr th:only-of-type {\n",
       "        vertical-align: middle;\n",
       "    }\n",
       "\n",
       "    .dataframe tbody tr th {\n",
       "        vertical-align: top;\n",
       "    }\n",
       "\n",
       "    .dataframe thead th {\n",
       "        text-align: right;\n",
       "    }\n",
       "</style>\n",
       "<table border=\"1\" class=\"dataframe\">\n",
       "  <thead>\n",
       "    <tr style=\"text-align: right;\">\n",
       "      <th></th>\n",
       "      <th>Sport</th>\n",
       "      <th>white_13</th>\n",
       "      <th>total_13</th>\n",
       "      <th>White_14</th>\n",
       "      <th>total_14</th>\n",
       "      <th>white_15</th>\n",
       "      <th>total_15</th>\n",
       "      <th>white_16</th>\n",
       "      <th>total_16</th>\n",
       "    </tr>\n",
       "  </thead>\n",
       "  <tbody>\n",
       "    <tr>\n",
       "      <th>0</th>\n",
       "      <td>Baseball</td>\n",
       "      <td>351</td>\n",
       "      <td>395</td>\n",
       "      <td>337</td>\n",
       "      <td>387</td>\n",
       "      <td>409</td>\n",
       "      <td>468</td>\n",
       "      <td>392</td>\n",
       "      <td>458</td>\n",
       "    </tr>\n",
       "    <tr>\n",
       "      <th>1</th>\n",
       "      <td>Men's Basketball</td>\n",
       "      <td>76</td>\n",
       "      <td>191</td>\n",
       "      <td>72</td>\n",
       "      <td>189</td>\n",
       "      <td>73</td>\n",
       "      <td>209</td>\n",
       "      <td>71</td>\n",
       "      <td>218</td>\n",
       "    </tr>\n",
       "    <tr>\n",
       "      <th>2</th>\n",
       "      <td>Women's Basketball</td>\n",
       "      <td>78</td>\n",
       "      <td>173</td>\n",
       "      <td>76</td>\n",
       "      <td>167</td>\n",
       "      <td>86</td>\n",
       "      <td>196</td>\n",
       "      <td>62</td>\n",
       "      <td>191</td>\n",
       "    </tr>\n",
       "    <tr>\n",
       "      <th>3</th>\n",
       "      <td>Men's Cross Country</td>\n",
       "      <td>204</td>\n",
       "      <td>234</td>\n",
       "      <td>208</td>\n",
       "      <td>235</td>\n",
       "      <td>215</td>\n",
       "      <td>255</td>\n",
       "      <td>222</td>\n",
       "      <td>251</td>\n",
       "    </tr>\n",
       "    <tr>\n",
       "      <th>4</th>\n",
       "      <td>Women's Cross Country</td>\n",
       "      <td>293</td>\n",
       "      <td>337</td>\n",
       "      <td>303</td>\n",
       "      <td>342</td>\n",
       "      <td>333</td>\n",
       "      <td>367</td>\n",
       "      <td>319</td>\n",
       "      <td>365</td>\n",
       "    </tr>\n",
       "    <tr>\n",
       "      <th>5</th>\n",
       "      <td>Field Hockey</td>\n",
       "      <td>128</td>\n",
       "      <td>158</td>\n",
       "      <td>124</td>\n",
       "      <td>163</td>\n",
       "      <td>159</td>\n",
       "      <td>211</td>\n",
       "      <td>167</td>\n",
       "      <td>223</td>\n",
       "    </tr>\n",
       "    <tr>\n",
       "      <th>6</th>\n",
       "      <td>Football</td>\n",
       "      <td>730</td>\n",
       "      <td>1444</td>\n",
       "      <td>727</td>\n",
       "      <td>1495</td>\n",
       "      <td>817</td>\n",
       "      <td>1682</td>\n",
       "      <td>803</td>\n",
       "      <td>1704</td>\n",
       "    </tr>\n",
       "    <tr>\n",
       "      <th>7</th>\n",
       "      <td>Men's Golf</td>\n",
       "      <td>93</td>\n",
       "      <td>130</td>\n",
       "      <td>84</td>\n",
       "      <td>121</td>\n",
       "      <td>108</td>\n",
       "      <td>143</td>\n",
       "      <td>117</td>\n",
       "      <td>141</td>\n",
       "    </tr>\n",
       "    <tr>\n",
       "      <th>8</th>\n",
       "      <td>Women's Golf</td>\n",
       "      <td>82</td>\n",
       "      <td>127</td>\n",
       "      <td>81</td>\n",
       "      <td>129</td>\n",
       "      <td>73</td>\n",
       "      <td>134</td>\n",
       "      <td>75</td>\n",
       "      <td>135</td>\n",
       "    </tr>\n",
       "    <tr>\n",
       "      <th>9</th>\n",
       "      <td>Men's Gymnastics</td>\n",
       "      <td>104</td>\n",
       "      <td>153</td>\n",
       "      <td>109</td>\n",
       "      <td>159</td>\n",
       "      <td>95</td>\n",
       "      <td>146</td>\n",
       "      <td>101</td>\n",
       "      <td>149</td>\n",
       "    </tr>\n",
       "    <tr>\n",
       "      <th>10</th>\n",
       "      <td>Women's Gymnastics</td>\n",
       "      <td>97</td>\n",
       "      <td>131</td>\n",
       "      <td>99</td>\n",
       "      <td>135</td>\n",
       "      <td>113</td>\n",
       "      <td>164</td>\n",
       "      <td>113</td>\n",
       "      <td>164</td>\n",
       "    </tr>\n",
       "    <tr>\n",
       "      <th>11</th>\n",
       "      <td>Ice Hockey</td>\n",
       "      <td>129</td>\n",
       "      <td>165</td>\n",
       "      <td>130</td>\n",
       "      <td>167</td>\n",
       "      <td>122</td>\n",
       "      <td>164</td>\n",
       "      <td>130</td>\n",
       "      <td>162</td>\n",
       "    </tr>\n",
       "    <tr>\n",
       "      <th>12</th>\n",
       "      <td>Men's Lacrosse</td>\n",
       "      <td>116</td>\n",
       "      <td>141</td>\n",
       "      <td>113</td>\n",
       "      <td>151</td>\n",
       "      <td>202</td>\n",
       "      <td>244</td>\n",
       "      <td>186</td>\n",
       "      <td>232</td>\n",
       "    </tr>\n",
       "    <tr>\n",
       "      <th>13</th>\n",
       "      <td>Women's Lacrosse</td>\n",
       "      <td>86</td>\n",
       "      <td>99</td>\n",
       "      <td>117</td>\n",
       "      <td>134</td>\n",
       "      <td>193</td>\n",
       "      <td>217</td>\n",
       "      <td>189</td>\n",
       "      <td>218</td>\n",
       "    </tr>\n",
       "    <tr>\n",
       "      <th>14</th>\n",
       "      <td>Rowing</td>\n",
       "      <td>80</td>\n",
       "      <td>87</td>\n",
       "      <td>667</td>\n",
       "      <td>771</td>\n",
       "      <td>594</td>\n",
       "      <td>742</td>\n",
       "      <td>689</td>\n",
       "      <td>843</td>\n",
       "    </tr>\n",
       "    <tr>\n",
       "      <th>15</th>\n",
       "      <td>Men's Soccer</td>\n",
       "      <td>133</td>\n",
       "      <td>192</td>\n",
       "      <td>154</td>\n",
       "      <td>200</td>\n",
       "      <td>191</td>\n",
       "      <td>262</td>\n",
       "      <td>190</td>\n",
       "      <td>272</td>\n",
       "    </tr>\n",
       "    <tr>\n",
       "      <th>16</th>\n",
       "      <td>Women's Soccer</td>\n",
       "      <td>258</td>\n",
       "      <td>321</td>\n",
       "      <td>267</td>\n",
       "      <td>342</td>\n",
       "      <td>302</td>\n",
       "      <td>409</td>\n",
       "      <td>309</td>\n",
       "      <td>408</td>\n",
       "    </tr>\n",
       "    <tr>\n",
       "      <th>17</th>\n",
       "      <td>Softball</td>\n",
       "      <td>211</td>\n",
       "      <td>264</td>\n",
       "      <td>192</td>\n",
       "      <td>253</td>\n",
       "      <td>229</td>\n",
       "      <td>300</td>\n",
       "      <td>228</td>\n",
       "      <td>301</td>\n",
       "    </tr>\n",
       "    <tr>\n",
       "      <th>18</th>\n",
       "      <td>Men's Swimming &amp; Diving</td>\n",
       "      <td>314</td>\n",
       "      <td>376</td>\n",
       "      <td>289</td>\n",
       "      <td>373</td>\n",
       "      <td>285</td>\n",
       "      <td>377</td>\n",
       "      <td>273</td>\n",
       "      <td>364</td>\n",
       "    </tr>\n",
       "    <tr>\n",
       "      <th>19</th>\n",
       "      <td>Women's Swimming &amp; Diving</td>\n",
       "      <td>345</td>\n",
       "      <td>422</td>\n",
       "      <td>320</td>\n",
       "      <td>406</td>\n",
       "      <td>343</td>\n",
       "      <td>426</td>\n",
       "      <td>351</td>\n",
       "      <td>425</td>\n",
       "    </tr>\n",
       "    <tr>\n",
       "      <th>20</th>\n",
       "      <td>Men's Tennis</td>\n",
       "      <td>58</td>\n",
       "      <td>121</td>\n",
       "      <td>71</td>\n",
       "      <td>136</td>\n",
       "      <td>50</td>\n",
       "      <td>120</td>\n",
       "      <td>70</td>\n",
       "      <td>124</td>\n",
       "    </tr>\n",
       "    <tr>\n",
       "      <th>21</th>\n",
       "      <td>Women's Tennis</td>\n",
       "      <td>53</td>\n",
       "      <td>115</td>\n",
       "      <td>66</td>\n",
       "      <td>122</td>\n",
       "      <td>68</td>\n",
       "      <td>142</td>\n",
       "      <td>68</td>\n",
       "      <td>137</td>\n",
       "    </tr>\n",
       "    <tr>\n",
       "      <th>22</th>\n",
       "      <td>Men's Indoor Track</td>\n",
       "      <td>404</td>\n",
       "      <td>590</td>\n",
       "      <td>424</td>\n",
       "      <td>615</td>\n",
       "      <td>423</td>\n",
       "      <td>632</td>\n",
       "      <td>390</td>\n",
       "      <td>586</td>\n",
       "    </tr>\n",
       "    <tr>\n",
       "      <th>23</th>\n",
       "      <td>Women's Indoor Track</td>\n",
       "      <td>467</td>\n",
       "      <td>651</td>\n",
       "      <td>444</td>\n",
       "      <td>646</td>\n",
       "      <td>523</td>\n",
       "      <td>743</td>\n",
       "      <td>474</td>\n",
       "      <td>725</td>\n",
       "    </tr>\n",
       "    <tr>\n",
       "      <th>24</th>\n",
       "      <td>Men's Outdoor Track</td>\n",
       "      <td>413</td>\n",
       "      <td>601</td>\n",
       "      <td>431</td>\n",
       "      <td>616</td>\n",
       "      <td>438</td>\n",
       "      <td>653</td>\n",
       "      <td>417</td>\n",
       "      <td>623</td>\n",
       "    </tr>\n",
       "    <tr>\n",
       "      <th>25</th>\n",
       "      <td>Women's Outdoor Track</td>\n",
       "      <td>466</td>\n",
       "      <td>653</td>\n",
       "      <td>447</td>\n",
       "      <td>645</td>\n",
       "      <td>503</td>\n",
       "      <td>721</td>\n",
       "      <td>473</td>\n",
       "      <td>720</td>\n",
       "    </tr>\n",
       "    <tr>\n",
       "      <th>26</th>\n",
       "      <td>Volleyball</td>\n",
       "      <td>138</td>\n",
       "      <td>189</td>\n",
       "      <td>161</td>\n",
       "      <td>214</td>\n",
       "      <td>176</td>\n",
       "      <td>246</td>\n",
       "      <td>161</td>\n",
       "      <td>227</td>\n",
       "    </tr>\n",
       "    <tr>\n",
       "      <th>27</th>\n",
       "      <td>Water Polo</td>\n",
       "      <td>41</td>\n",
       "      <td>51</td>\n",
       "      <td>42</td>\n",
       "      <td>47</td>\n",
       "      <td>37</td>\n",
       "      <td>46</td>\n",
       "      <td>35</td>\n",
       "      <td>43</td>\n",
       "    </tr>\n",
       "    <tr>\n",
       "      <th>28</th>\n",
       "      <td>Wrestling</td>\n",
       "      <td>341</td>\n",
       "      <td>414</td>\n",
       "      <td>324</td>\n",
       "      <td>406</td>\n",
       "      <td>389</td>\n",
       "      <td>487</td>\n",
       "      <td>371</td>\n",
       "      <td>472</td>\n",
       "    </tr>\n",
       "  </tbody>\n",
       "</table>\n",
       "</div>"
      ],
      "text/plain": [
       "                        Sport  white_13  total_13  White_14  total_14  \\\n",
       "0                    Baseball       351       395       337       387   \n",
       "1            Men's Basketball        76       191        72       189   \n",
       "2          Women's Basketball        78       173        76       167   \n",
       "3         Men's Cross Country       204       234       208       235   \n",
       "4       Women's Cross Country       293       337       303       342   \n",
       "5                Field Hockey       128       158       124       163   \n",
       "6                    Football       730      1444       727      1495   \n",
       "7                  Men's Golf        93       130        84       121   \n",
       "8                Women's Golf        82       127        81       129   \n",
       "9            Men's Gymnastics       104       153       109       159   \n",
       "10         Women's Gymnastics        97       131        99       135   \n",
       "11                 Ice Hockey       129       165       130       167   \n",
       "12             Men's Lacrosse       116       141       113       151   \n",
       "13           Women's Lacrosse        86        99       117       134   \n",
       "14                     Rowing        80        87       667       771   \n",
       "15               Men's Soccer       133       192       154       200   \n",
       "16             Women's Soccer       258       321       267       342   \n",
       "17                   Softball       211       264       192       253   \n",
       "18    Men's Swimming & Diving       314       376       289       373   \n",
       "19  Women's Swimming & Diving       345       422       320       406   \n",
       "20               Men's Tennis        58       121        71       136   \n",
       "21             Women's Tennis        53       115        66       122   \n",
       "22         Men's Indoor Track       404       590       424       615   \n",
       "23       Women's Indoor Track       467       651       444       646   \n",
       "24        Men's Outdoor Track       413       601       431       616   \n",
       "25      Women's Outdoor Track       466       653       447       645   \n",
       "26                 Volleyball       138       189       161       214   \n",
       "27                 Water Polo        41        51        42        47   \n",
       "28                  Wrestling       341       414       324       406   \n",
       "\n",
       "    white_15  total_15  white_16  total_16  \n",
       "0        409       468       392       458  \n",
       "1         73       209        71       218  \n",
       "2         86       196        62       191  \n",
       "3        215       255       222       251  \n",
       "4        333       367       319       365  \n",
       "5        159       211       167       223  \n",
       "6        817      1682       803      1704  \n",
       "7        108       143       117       141  \n",
       "8         73       134        75       135  \n",
       "9         95       146       101       149  \n",
       "10       113       164       113       164  \n",
       "11       122       164       130       162  \n",
       "12       202       244       186       232  \n",
       "13       193       217       189       218  \n",
       "14       594       742       689       843  \n",
       "15       191       262       190       272  \n",
       "16       302       409       309       408  \n",
       "17       229       300       228       301  \n",
       "18       285       377       273       364  \n",
       "19       343       426       351       425  \n",
       "20        50       120        70       124  \n",
       "21        68       142        68       137  \n",
       "22       423       632       390       586  \n",
       "23       523       743       474       725  \n",
       "24       438       653       417       623  \n",
       "25       503       721       473       720  \n",
       "26       176       246       161       227  \n",
       "27        37        46        35        43  \n",
       "28       389       487       371       472  "
      ]
     },
     "execution_count": 124,
     "metadata": {},
     "output_type": "execute_result"
    }
   ],
   "source": [
    "timeline_df"
   ]
  },
  {
   "cell_type": "code",
   "execution_count": 125,
   "metadata": {},
   "outputs": [
    {
     "name": "stdout",
     "output_type": "stream",
     "text": [
      "0.29535014005602245\n",
      "0.2956174482899857\n",
      "0.3078122134604805\n",
      "0.3156878963330576\n"
     ]
    }
   ],
   "source": [
    "# timelinesorted_sum= ((PACminority_df.sum()).sort_values(ascending =False))\n",
    "# PACtotal_minority= PACsorted_sum.sum()\n",
    "\n",
    "\n",
    "# print('total minority student athletes:')\n",
    "# print (PACtotal_minority)\n",
    "# PACtotal_students= PACall_students.sum().sum()\n",
    "# print('total student athletes:')\n",
    "# print (PACtotal_students )\n",
    "\n",
    "total_2013=(timeline_df['total_13'].sum())\n",
    "total_2014=(timeline_df['total_14'].sum())\n",
    "total_2015=(timeline_df['total_15'].sum())\n",
    "total_2016=(timeline_df['total_16'].sum())\n",
    "minority2013= 1-((timeline_df['white_13'].sum())/(timeline_df['total_13'].sum()))\n",
    "print (minority2013)\n",
    "minority2014= 1-((timeline_df['White_14'].sum())/(timeline_df['total_14'].sum()))\n",
    "print (minority2014)\n",
    "minority2015= 1-((timeline_df['white_15'].sum())/(timeline_df['total_15'].sum()))\n",
    "print (minority2015)\n",
    "minority2016= 1-((timeline_df['white_16'].sum())/(timeline_df['total_16'].sum()))\n",
    "print (minority2016)"
   ]
  },
  {
   "cell_type": "code",
   "execution_count": 126,
   "metadata": {},
   "outputs": [
    {
     "data": {
      "text/html": [
       "<div>\n",
       "<style scoped>\n",
       "    .dataframe tbody tr th:only-of-type {\n",
       "        vertical-align: middle;\n",
       "    }\n",
       "\n",
       "    .dataframe tbody tr th {\n",
       "        vertical-align: top;\n",
       "    }\n",
       "\n",
       "    .dataframe thead th {\n",
       "        text-align: right;\n",
       "    }\n",
       "</style>\n",
       "<table border=\"1\" class=\"dataframe\">\n",
       "  <thead>\n",
       "    <tr style=\"text-align: right;\">\n",
       "      <th></th>\n",
       "      <th>Year</th>\n",
       "      <th>Minority_%</th>\n",
       "      <th>Total_students</th>\n",
       "    </tr>\n",
       "  </thead>\n",
       "  <tbody>\n",
       "    <tr>\n",
       "      <th>0</th>\n",
       "      <td>2013</td>\n",
       "      <td>0.295350</td>\n",
       "      <td>8925.0</td>\n",
       "    </tr>\n",
       "    <tr>\n",
       "      <th>1</th>\n",
       "      <td>2014</td>\n",
       "      <td>0.295617</td>\n",
       "      <td>9766.0</td>\n",
       "    </tr>\n",
       "    <tr>\n",
       "      <th>2</th>\n",
       "      <td>2015</td>\n",
       "      <td>0.307812</td>\n",
       "      <td>10906.0</td>\n",
       "    </tr>\n",
       "    <tr>\n",
       "      <th>3</th>\n",
       "      <td>2016</td>\n",
       "      <td>0.315688</td>\n",
       "      <td>10881.0</td>\n",
       "    </tr>\n",
       "    <tr>\n",
       "      <th>4</th>\n",
       "      <td>2017</td>\n",
       "      <td>0.327075</td>\n",
       "      <td>10918.0</td>\n",
       "    </tr>\n",
       "  </tbody>\n",
       "</table>\n",
       "</div>"
      ],
      "text/plain": [
       "   Year  Minority_%  Total_students\n",
       "0  2013    0.295350          8925.0\n",
       "1  2014    0.295617          9766.0\n",
       "2  2015    0.307812         10906.0\n",
       "3  2016    0.315688         10881.0\n",
       "4  2017    0.327075         10918.0"
      ]
     },
     "execution_count": 126,
     "metadata": {},
     "output_type": "execute_result"
    }
   ],
   "source": [
    "newdf= pd.DataFrame(\n",
    "    {\n",
    "        \"Year\":[2013,2014,2015,2016,2017],\n",
    "        \"Minority_%\":[minority2013,minority2014,minority2015,minority2016,BTminority_value],\n",
    "        \"Total_students\":[total_2013,total_2014,total_2015,total_2016,BTtotal_students]\n",
    "        \n",
    "    })\n",
    "newdf"
   ]
  },
  {
   "cell_type": "code",
   "execution_count": 127,
   "metadata": {},
   "outputs": [
    {
     "data": {
      "text/html": [
       "<div>\n",
       "<style scoped>\n",
       "    .dataframe tbody tr th:only-of-type {\n",
       "        vertical-align: middle;\n",
       "    }\n",
       "\n",
       "    .dataframe tbody tr th {\n",
       "        vertical-align: top;\n",
       "    }\n",
       "\n",
       "    .dataframe thead th {\n",
       "        text-align: right;\n",
       "    }\n",
       "</style>\n",
       "<table border=\"1\" class=\"dataframe\">\n",
       "  <thead>\n",
       "    <tr style=\"text-align: right;\">\n",
       "      <th></th>\n",
       "      <th>Year</th>\n",
       "      <th>Minority_%</th>\n",
       "      <th>Total_students</th>\n",
       "    </tr>\n",
       "  </thead>\n",
       "  <tbody>\n",
       "    <tr>\n",
       "      <th>0</th>\n",
       "      <td>2013-01-01</td>\n",
       "      <td>0.295350</td>\n",
       "      <td>8925.0</td>\n",
       "    </tr>\n",
       "    <tr>\n",
       "      <th>1</th>\n",
       "      <td>2014-01-01</td>\n",
       "      <td>0.295617</td>\n",
       "      <td>9766.0</td>\n",
       "    </tr>\n",
       "    <tr>\n",
       "      <th>2</th>\n",
       "      <td>2015-01-01</td>\n",
       "      <td>0.307812</td>\n",
       "      <td>10906.0</td>\n",
       "    </tr>\n",
       "    <tr>\n",
       "      <th>3</th>\n",
       "      <td>2016-01-01</td>\n",
       "      <td>0.315688</td>\n",
       "      <td>10881.0</td>\n",
       "    </tr>\n",
       "    <tr>\n",
       "      <th>4</th>\n",
       "      <td>2017-01-01</td>\n",
       "      <td>0.327075</td>\n",
       "      <td>10918.0</td>\n",
       "    </tr>\n",
       "  </tbody>\n",
       "</table>\n",
       "</div>"
      ],
      "text/plain": [
       "        Year  Minority_%  Total_students\n",
       "0 2013-01-01    0.295350          8925.0\n",
       "1 2014-01-01    0.295617          9766.0\n",
       "2 2015-01-01    0.307812         10906.0\n",
       "3 2016-01-01    0.315688         10881.0\n",
       "4 2017-01-01    0.327075         10918.0"
      ]
     },
     "execution_count": 127,
     "metadata": {},
     "output_type": "execute_result"
    }
   ],
   "source": [
    "newdf['Year'] =  pd.to_datetime(newdf['Year'], format='%Y')\n",
    "\n",
    "newdf"
   ]
  },
  {
   "cell_type": "code",
   "execution_count": 128,
   "metadata": {},
   "outputs": [
    {
     "name": "stderr",
     "output_type": "stream",
     "text": [
      "/Applications/anaconda3/lib/python3.6/site-packages/IPython/core/display.py:689: UserWarning:\n",
      "\n",
      "Consider using IPython.display.IFrame instead\n",
      "\n"
     ]
    },
    {
     "data": {
      "text/html": [
       "<iframe id=\"igraph\" scrolling=\"no\" style=\"border:none;\" seamless=\"seamless\" src=\"https://plot.ly/~libbymur/163.embed\" height=\"525px\" width=\"100%\"></iframe>"
      ],
      "text/plain": [
       "<chart_studio.tools.PlotlyDisplay object>"
      ]
     },
     "execution_count": 128,
     "metadata": {},
     "output_type": "execute_result"
    }
   ],
   "source": [
    "trace_time = go.Scatter(\n",
    "                x=newdf['Year'],\n",
    "                y=newdf['Minority_%'],\n",
    "                name = 'Minority Ratio over 5 years',\n",
    "                line = dict(color = '#17BECF',width=8),\n",
    "                opacity = 0.8)\n",
    "\n",
    "trace_students = go.Scatter(\n",
    "                x=newdf['Year'],\n",
    "                y=newdf['Total_students'],\n",
    "                name = 'Total Student Athlete population change over 5 years',\n",
    "                line = dict(color = '#7F7F7F'),\n",
    "                opacity = 0.8)\n",
    "\n",
    "data = [trace_time] #,trace_low]\n",
    "\n",
    "layout = dict(title = \"Big10 Minority Ratio over 5 years\",\n",
    "              yaxis=dict(title='Minority Ratio',range = [0.25,0.40]),\n",
    "              xaxis = dict(range = ['2013','2017']))\n",
    "\n",
    "fig = dict(data=data, layout=layout)\n",
    "py.iplot(fig, filename = 'Big10-5years-timechart')"
   ]
  },
  {
   "cell_type": "markdown",
   "metadata": {},
   "source": [
    "### What can we learn from this data?\n"
   ]
  },
  {
   "cell_type": "markdown",
   "metadata": {},
   "source": [
    "Michigan’s ratio of minority student athletes is below the national average. \n",
    "However, it is on par with the conference average \n"
   ]
  },
  {
   "cell_type": "markdown",
   "metadata": {},
   "source": [
    "Michigan is very close to BigTen, so we can assume Michigan’s diversity is well reflected in Big-Ten’s minority ratio.\n",
    "While diversity for Michigan and Big-10 are below average, the last 5 years shows Big-Ten’s diversity has a positive progression \n"
   ]
  },
  {
   "cell_type": "markdown",
   "metadata": {},
   "source": [
    "### Further research questions "
   ]
  },
  {
   "cell_type": "markdown",
   "metadata": {},
   "source": [
    "* How has diversity by sport changed?\n",
    "* what does Michigan's 5 year trend look like?\n",
    "* Look at recruitment spending by sport\n",
    "* Are sports recruiting from a diverse pool of candidates?\n",
    "* - explore changes in the home state of athletes \n",
    "* Looking at all conferences' 5 year trends \n",
    "* Break down Big-10 by schools to see if there is a school affecting the average\n"
   ]
  },
  {
   "cell_type": "code",
   "execution_count": null,
   "metadata": {},
   "outputs": [],
   "source": []
  }
 ],
 "metadata": {
  "kernelspec": {
   "display_name": "Python 3",
   "language": "python",
   "name": "python3"
  },
  "language_info": {
   "codemirror_mode": {
    "name": "ipython",
    "version": 3
   },
   "file_extension": ".py",
   "mimetype": "text/x-python",
   "name": "python",
   "nbconvert_exporter": "python",
   "pygments_lexer": "ipython3",
   "version": "3.6.7"
  }
 },
 "nbformat": 4,
 "nbformat_minor": 2
}
